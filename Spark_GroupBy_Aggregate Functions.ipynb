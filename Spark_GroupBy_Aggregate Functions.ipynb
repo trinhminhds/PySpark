{
 "cells": [
  {
   "metadata": {},
   "cell_type": "markdown",
   "source": "# PySpark GroupBy And Aggregate Function",
   "id": "86e675da579fe71"
  },
  {
   "cell_type": "code",
   "id": "initial_id",
   "metadata": {
    "collapsed": true,
    "ExecuteTime": {
     "end_time": "2025-05-22T06:54:16.150168Z",
     "start_time": "2025-05-22T06:54:16.146146Z"
    }
   },
   "source": "from pyspark.sql import SparkSession",
   "outputs": [],
   "execution_count": 13
  },
  {
   "metadata": {
    "ExecuteTime": {
     "end_time": "2025-05-22T06:43:33.677228Z",
     "start_time": "2025-05-22T06:43:30.278060Z"
    }
   },
   "cell_type": "code",
   "source": "spark = SparkSession.builder.appName(\"Agg\").getOrCreate()",
   "id": "7ae8cf8df86ee680",
   "outputs": [],
   "execution_count": 2
  },
  {
   "metadata": {
    "ExecuteTime": {
     "end_time": "2025-05-22T06:43:36.290495Z",
     "start_time": "2025-05-22T06:43:35.608027Z"
    }
   },
   "cell_type": "code",
   "source": "spark",
   "id": "231fa0c2f4f0b8fe",
   "outputs": [
    {
     "data": {
      "text/plain": [
       "<pyspark.sql.session.SparkSession at 0x1fb48796a90>"
      ],
      "text/html": [
       "\n",
       "            <div>\n",
       "                <p><b>SparkSession - in-memory</b></p>\n",
       "                \n",
       "        <div>\n",
       "            <p><b>SparkContext</b></p>\n",
       "\n",
       "            <p><a href=\"http://DESKTOP-PKBG0MG:4040\">Spark UI</a></p>\n",
       "\n",
       "            <dl>\n",
       "              <dt>Version</dt>\n",
       "                <dd><code>v3.5.1</code></dd>\n",
       "              <dt>Master</dt>\n",
       "                <dd><code>local[*]</code></dd>\n",
       "              <dt>AppName</dt>\n",
       "                <dd><code>Agg</code></dd>\n",
       "            </dl>\n",
       "        </div>\n",
       "        \n",
       "            </div>\n",
       "        "
      ]
     },
     "execution_count": 3,
     "metadata": {},
     "output_type": "execute_result"
    }
   ],
   "execution_count": 3
  },
  {
   "metadata": {
    "ExecuteTime": {
     "end_time": "2025-05-22T06:45:08.518998Z",
     "start_time": "2025-05-22T06:45:05.273957Z"
    }
   },
   "cell_type": "code",
   "source": [
    "df_pyspark = spark.read.csv(\"./Pyspark-With-Python/test3.csv\", header=True, inferSchema=True)\n",
    "df_pyspark.show()"
   ],
   "id": "cd5b69bf1b4dc081",
   "outputs": [
    {
     "name": "stdout",
     "output_type": "stream",
     "text": [
      "+---------+------------+------+\n",
      "|     Name| Departments|salary|\n",
      "+---------+------------+------+\n",
      "|    Krish|Data Science| 10000|\n",
      "|    Krish|         IOT|  5000|\n",
      "|   Mahesh|    Big Data|  4000|\n",
      "|    Krish|    Big Data|  4000|\n",
      "|   Mahesh|Data Science|  3000|\n",
      "|Sudhanshu|Data Science| 20000|\n",
      "|Sudhanshu|         IOT| 10000|\n",
      "|Sudhanshu|    Big Data|  5000|\n",
      "|    Sunny|Data Science| 10000|\n",
      "|    Sunny|    Big Data|  2000|\n",
      "+---------+------------+------+\n",
      "\n"
     ]
    }
   ],
   "execution_count": 4
  },
  {
   "metadata": {
    "ExecuteTime": {
     "end_time": "2025-05-22T06:45:26.488339Z",
     "start_time": "2025-05-22T06:45:26.479922Z"
    }
   },
   "cell_type": "code",
   "source": "df_pyspark.printSchema()",
   "id": "b121f850685ad5db",
   "outputs": [
    {
     "name": "stdout",
     "output_type": "stream",
     "text": [
      "root\n",
      " |-- Name: string (nullable = true)\n",
      " |-- Departments: string (nullable = true)\n",
      " |-- salary: integer (nullable = true)\n",
      "\n"
     ]
    }
   ],
   "execution_count": 5
  },
  {
   "metadata": {
    "ExecuteTime": {
     "end_time": "2025-05-22T06:49:51.427269Z",
     "start_time": "2025-05-22T06:49:50.666836Z"
    }
   },
   "cell_type": "code",
   "source": [
    "# Groupby\n",
    "# Grouped to find the maximum salary\n",
    "df_pyspark.groupBy('Name').sum().show()"
   ],
   "id": "b7c6154a4886be5",
   "outputs": [
    {
     "name": "stdout",
     "output_type": "stream",
     "text": [
      "+---------+-----------+\n",
      "|     Name|sum(salary)|\n",
      "+---------+-----------+\n",
      "|Sudhanshu|      35000|\n",
      "|    Sunny|      12000|\n",
      "|    Krish|      19000|\n",
      "|   Mahesh|       7000|\n",
      "+---------+-----------+\n",
      "\n"
     ]
    }
   ],
   "execution_count": 6
  },
  {
   "metadata": {
    "ExecuteTime": {
     "end_time": "2025-05-22T06:50:33.583647Z",
     "start_time": "2025-05-22T06:50:33.279722Z"
    }
   },
   "cell_type": "code",
   "source": "df_pyspark.groupBy('Name').avg().show()",
   "id": "82c6e2c90ebefe13",
   "outputs": [
    {
     "name": "stdout",
     "output_type": "stream",
     "text": [
      "+---------+------------------+\n",
      "|     Name|       avg(salary)|\n",
      "+---------+------------------+\n",
      "|Sudhanshu|11666.666666666666|\n",
      "|    Sunny|            6000.0|\n",
      "|    Krish| 6333.333333333333|\n",
      "|   Mahesh|            3500.0|\n",
      "+---------+------------------+\n",
      "\n"
     ]
    }
   ],
   "execution_count": 8
  },
  {
   "metadata": {
    "ExecuteTime": {
     "end_time": "2025-05-22T06:51:28.037370Z",
     "start_time": "2025-05-22T06:51:27.847695Z"
    }
   },
   "cell_type": "code",
   "source": "df_pyspark.groupBy('Departments').sum().show()",
   "id": "5f3fb93cfdcafb62",
   "outputs": [
    {
     "name": "stdout",
     "output_type": "stream",
     "text": [
      "+------------+-----------+\n",
      "| Departments|sum(salary)|\n",
      "+------------+-----------+\n",
      "|         IOT|      15000|\n",
      "|    Big Data|      15000|\n",
      "|Data Science|      43000|\n",
      "+------------+-----------+\n",
      "\n"
     ]
    }
   ],
   "execution_count": 9
  },
  {
   "metadata": {
    "ExecuteTime": {
     "end_time": "2025-05-22T06:52:25.707167Z",
     "start_time": "2025-05-22T06:52:25.555433Z"
    }
   },
   "cell_type": "code",
   "source": "df_pyspark.groupBy('Departments').mean().show()",
   "id": "10a672d1138666ea",
   "outputs": [
    {
     "name": "stdout",
     "output_type": "stream",
     "text": [
      "+------------+-----------+\n",
      "| Departments|avg(salary)|\n",
      "+------------+-----------+\n",
      "|         IOT|     7500.0|\n",
      "|    Big Data|     3750.0|\n",
      "|Data Science|    10750.0|\n",
      "+------------+-----------+\n",
      "\n"
     ]
    }
   ],
   "execution_count": 10
  },
  {
   "metadata": {
    "ExecuteTime": {
     "end_time": "2025-05-22T06:52:48.666064Z",
     "start_time": "2025-05-22T06:52:48.458822Z"
    }
   },
   "cell_type": "code",
   "source": "df_pyspark.groupBy('Departments').count().show()",
   "id": "8cbce9aa2e4b442d",
   "outputs": [
    {
     "name": "stdout",
     "output_type": "stream",
     "text": [
      "+------------+-----+\n",
      "| Departments|count|\n",
      "+------------+-----+\n",
      "|         IOT|    2|\n",
      "|    Big Data|    4|\n",
      "|Data Science|    4|\n",
      "+------------+-----+\n",
      "\n"
     ]
    }
   ],
   "execution_count": 11
  },
  {
   "metadata": {
    "ExecuteTime": {
     "end_time": "2025-05-22T06:53:20.808649Z",
     "start_time": "2025-05-22T06:53:20.649414Z"
    }
   },
   "cell_type": "code",
   "source": "df_pyspark.agg({'Salary': 'sum'}).show()",
   "id": "224ac203c19cc660",
   "outputs": [
    {
     "name": "stdout",
     "output_type": "stream",
     "text": [
      "+-----------+\n",
      "|sum(Salary)|\n",
      "+-----------+\n",
      "|      73000|\n",
      "+-----------+\n",
      "\n"
     ]
    }
   ],
   "execution_count": 12
  },
  {
   "metadata": {},
   "cell_type": "code",
   "outputs": [],
   "execution_count": null,
   "source": "",
   "id": "f1f0283d96418866"
  }
 ],
 "metadata": {
  "kernelspec": {
   "display_name": "Python 3",
   "language": "python",
   "name": "python3"
  },
  "language_info": {
   "codemirror_mode": {
    "name": "ipython",
    "version": 2
   },
   "file_extension": ".py",
   "mimetype": "text/x-python",
   "name": "python",
   "nbconvert_exporter": "python",
   "pygments_lexer": "ipython2",
   "version": "2.7.6"
  }
 },
 "nbformat": 4,
 "nbformat_minor": 5
}
