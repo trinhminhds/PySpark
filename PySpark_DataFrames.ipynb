{
 "cells": [
  {
   "metadata": {},
   "cell_type": "markdown",
   "source": [
    "# In this lesson we will go\n",
    "- Pyspark Dataframe\n",
    "- Reading The Dataset\n",
    "- Checking the datatypes of the Column(Schema)\n",
    "- Selecting Columns and Indexing\n",
    "- Check Describe option similar to Pandas\n",
    "- Adding columns\n",
    "- Dropping columns\n",
    "- Renaming columns"
   ],
   "id": "813c6c78c23b2f02"
  },
  {
   "cell_type": "code",
   "id": "initial_id",
   "metadata": {
    "collapsed": true,
    "ExecuteTime": {
     "end_time": "2025-05-22T03:23:29.502535Z",
     "start_time": "2025-05-22T03:23:29.004880Z"
    }
   },
   "source": [
    "import pandas as pd\n",
    "from pyspark.sql import SparkSession"
   ],
   "outputs": [],
   "execution_count": 1
  },
  {
   "metadata": {
    "ExecuteTime": {
     "end_time": "2025-05-22T03:25:05.114923Z",
     "start_time": "2025-05-22T03:25:01.921932Z"
    }
   },
   "cell_type": "code",
   "source": "pyspark = SparkSession.builder.appName(\"DataFrames\").getOrCreate()",
   "id": "aa5daf75bf9b245a",
   "outputs": [],
   "execution_count": 2
  },
  {
   "metadata": {
    "ExecuteTime": {
     "end_time": "2025-05-22T03:25:09.586186Z",
     "start_time": "2025-05-22T03:25:08.834471Z"
    }
   },
   "cell_type": "code",
   "source": "pyspark",
   "id": "9b840d358ba1c17a",
   "outputs": [
    {
     "data": {
      "text/plain": [
       "<pyspark.sql.session.SparkSession at 0x2233c504e50>"
      ],
      "text/html": [
       "\n",
       "            <div>\n",
       "                <p><b>SparkSession - in-memory</b></p>\n",
       "                \n",
       "        <div>\n",
       "            <p><b>SparkContext</b></p>\n",
       "\n",
       "            <p><a href=\"http://DESKTOP-PKBG0MG:4041\">Spark UI</a></p>\n",
       "\n",
       "            <dl>\n",
       "              <dt>Version</dt>\n",
       "                <dd><code>v3.5.1</code></dd>\n",
       "              <dt>Master</dt>\n",
       "                <dd><code>local[*]</code></dd>\n",
       "              <dt>AppName</dt>\n",
       "                <dd><code>DataFrames</code></dd>\n",
       "            </dl>\n",
       "        </div>\n",
       "        \n",
       "            </div>\n",
       "        "
      ]
     },
     "execution_count": 3,
     "metadata": {},
     "output_type": "execute_result"
    }
   ],
   "execution_count": 3
  },
  {
   "metadata": {
    "ExecuteTime": {
     "end_time": "2025-05-22T03:28:17.590529Z",
     "start_time": "2025-05-22T03:28:14.409881Z"
    }
   },
   "cell_type": "code",
   "source": [
    "# read the dataset\n",
    "df = pyspark.read.option('header', 'true').csv('./Pyspark-With-Python/test1.csv', inferSchema = True)"
   ],
   "id": "dbc208f606433bb9",
   "outputs": [],
   "execution_count": 4
  },
  {
   "metadata": {
    "ExecuteTime": {
     "end_time": "2025-05-22T03:28:48.881526Z",
     "start_time": "2025-05-22T03:28:48.873614Z"
    }
   },
   "cell_type": "code",
   "source": [
    "# check the schema\n",
    "df.printSchema()"
   ],
   "id": "b39277ad8a0ba3c9",
   "outputs": [
    {
     "name": "stdout",
     "output_type": "stream",
     "text": [
      "root\n",
      " |-- Name: string (nullable = true)\n",
      " |-- age: integer (nullable = true)\n",
      " |-- Experience: integer (nullable = true)\n",
      " |-- Salary: integer (nullable = true)\n",
      "\n"
     ]
    }
   ],
   "execution_count": 5
  },
  {
   "metadata": {
    "ExecuteTime": {
     "end_time": "2025-05-22T03:31:37.091600Z",
     "start_time": "2025-05-22T03:31:36.561616Z"
    }
   },
   "cell_type": "code",
   "source": [
    "df_spark = pyspark.read.csv('./Pyspark-With-Python/test1.csv', header = 'true', inferSchema = True)\n",
    "df_spark.show()"
   ],
   "id": "c50298a070cb99e4",
   "outputs": [
    {
     "name": "stdout",
     "output_type": "stream",
     "text": [
      "+---------+---+----------+------+\n",
      "|     Name|age|Experience|Salary|\n",
      "+---------+---+----------+------+\n",
      "|    Krish| 31|        10| 30000|\n",
      "|Sudhanshu| 30|         8| 25000|\n",
      "|    Sunny| 29|         4| 20000|\n",
      "|     Paul| 24|         3| 20000|\n",
      "|   Harsha| 21|         1| 15000|\n",
      "|  Shubham| 23|         2| 18000|\n",
      "+---------+---+----------+------+\n",
      "\n"
     ]
    }
   ],
   "execution_count": 6
  },
  {
   "metadata": {
    "ExecuteTime": {
     "end_time": "2025-05-22T03:32:14.711759Z",
     "start_time": "2025-05-22T03:32:14.704699Z"
    }
   },
   "cell_type": "code",
   "source": "df_spark.printSchema()",
   "id": "8b2ec388b38016e6",
   "outputs": [
    {
     "name": "stdout",
     "output_type": "stream",
     "text": [
      "root\n",
      " |-- Name: string (nullable = true)\n",
      " |-- age: integer (nullable = true)\n",
      " |-- Experience: integer (nullable = true)\n",
      " |-- Salary: integer (nullable = true)\n",
      "\n"
     ]
    }
   ],
   "execution_count": 7
  },
  {
   "metadata": {
    "ExecuteTime": {
     "end_time": "2025-05-22T03:32:27.064427Z",
     "start_time": "2025-05-22T03:32:27.056898Z"
    }
   },
   "cell_type": "code",
   "source": "type(df_spark)",
   "id": "f35c0e560223491d",
   "outputs": [
    {
     "data": {
      "text/plain": [
       "pyspark.sql.dataframe.DataFrame"
      ]
     },
     "execution_count": 9,
     "metadata": {},
     "output_type": "execute_result"
    }
   ],
   "execution_count": 9
  },
  {
   "metadata": {
    "ExecuteTime": {
     "end_time": "2025-05-22T03:32:48.652859Z",
     "start_time": "2025-05-22T03:32:48.590794Z"
    }
   },
   "cell_type": "code",
   "source": "df_spark.head(5)",
   "id": "7237808a0cd74db1",
   "outputs": [
    {
     "data": {
      "text/plain": [
       "[Row(Name='Krish', age=31, Experience=10, Salary=30000),\n",
       " Row(Name='Sudhanshu', age=30, Experience=8, Salary=25000),\n",
       " Row(Name='Sunny', age=29, Experience=4, Salary=20000),\n",
       " Row(Name='Paul', age=24, Experience=3, Salary=20000),\n",
       " Row(Name='Harsha', age=21, Experience=1, Salary=15000)]"
      ]
     },
     "execution_count": 11,
     "metadata": {},
     "output_type": "execute_result"
    }
   ],
   "execution_count": 11
  },
  {
   "metadata": {
    "ExecuteTime": {
     "end_time": "2025-05-22T03:32:58.531017Z",
     "start_time": "2025-05-22T03:32:58.452657Z"
    }
   },
   "cell_type": "code",
   "source": "df_spark.show()",
   "id": "52c8e65dc58345d9",
   "outputs": [
    {
     "name": "stdout",
     "output_type": "stream",
     "text": [
      "+---------+---+----------+------+\n",
      "|     Name|age|Experience|Salary|\n",
      "+---------+---+----------+------+\n",
      "|    Krish| 31|        10| 30000|\n",
      "|Sudhanshu| 30|         8| 25000|\n",
      "|    Sunny| 29|         4| 20000|\n",
      "|     Paul| 24|         3| 20000|\n",
      "|   Harsha| 21|         1| 15000|\n",
      "|  Shubham| 23|         2| 18000|\n",
      "+---------+---+----------+------+\n",
      "\n"
     ]
    }
   ],
   "execution_count": 12
  },
  {
   "metadata": {
    "ExecuteTime": {
     "end_time": "2025-05-22T03:37:23.194884Z",
     "start_time": "2025-05-22T03:37:23.102186Z"
    }
   },
   "cell_type": "code",
   "source": "df_spark.select([\"Name\", \"Salary\"]).head(5)",
   "id": "7a2aa0022bb7d5b2",
   "outputs": [
    {
     "data": {
      "text/plain": [
       "[Row(Name='Krish', Salary=30000),\n",
       " Row(Name='Sudhanshu', Salary=25000),\n",
       " Row(Name='Sunny', Salary=20000),\n",
       " Row(Name='Paul', Salary=20000),\n",
       " Row(Name='Harsha', Salary=15000)]"
      ]
     },
     "execution_count": 13,
     "metadata": {},
     "output_type": "execute_result"
    }
   ],
   "execution_count": 13
  },
  {
   "metadata": {
    "ExecuteTime": {
     "end_time": "2025-05-22T03:37:57.961782Z",
     "start_time": "2025-05-22T03:37:57.949539Z"
    }
   },
   "cell_type": "code",
   "source": "df_spark[\"Name\"]",
   "id": "92910e03607c126c",
   "outputs": [
    {
     "data": {
      "text/plain": [
       "Column<'Name'>"
      ]
     },
     "execution_count": 14,
     "metadata": {},
     "output_type": "execute_result"
    }
   ],
   "execution_count": 14
  },
  {
   "metadata": {
    "ExecuteTime": {
     "end_time": "2025-05-22T03:38:20.379077Z",
     "start_time": "2025-05-22T03:38:20.371851Z"
    }
   },
   "cell_type": "code",
   "source": "df_spark.dtypes",
   "id": "ac1b1f3ea44f32d5",
   "outputs": [
    {
     "data": {
      "text/plain": [
       "[('Name', 'string'), ('age', 'int'), ('Experience', 'int'), ('Salary', 'int')]"
      ]
     },
     "execution_count": 15,
     "metadata": {},
     "output_type": "execute_result"
    }
   ],
   "execution_count": 15
  },
  {
   "metadata": {
    "ExecuteTime": {
     "end_time": "2025-05-22T03:39:10.630641Z",
     "start_time": "2025-05-22T03:39:09.890637Z"
    }
   },
   "cell_type": "code",
   "source": "df_spark.describe().show()",
   "id": "5c24195cea33b598",
   "outputs": [
    {
     "name": "stdout",
     "output_type": "stream",
     "text": [
      "+-------+------+------------------+-----------------+------------------+\n",
      "|summary|  Name|               age|       Experience|            Salary|\n",
      "+-------+------+------------------+-----------------+------------------+\n",
      "|  count|     6|                 6|                6|                 6|\n",
      "|   mean|  NULL|26.333333333333332|4.666666666666667|21333.333333333332|\n",
      "| stddev|  NULL| 4.179314138308661|3.559026084010437| 5354.126134736337|\n",
      "|    min|Harsha|                21|                1|             15000|\n",
      "|    max| Sunny|                31|               10|             30000|\n",
      "+-------+------+------------------+-----------------+------------------+\n",
      "\n"
     ]
    }
   ],
   "execution_count": 17
  },
  {
   "metadata": {
    "ExecuteTime": {
     "end_time": "2025-05-22T03:41:58.262745Z",
     "start_time": "2025-05-22T03:41:58.240749Z"
    }
   },
   "cell_type": "code",
   "source": [
    "# adding columns after 2 year\n",
    "df_spark = df_spark.withColumn(\"Experience after 2 year\", df_spark[\"Experience\"] + 2)"
   ],
   "id": "9691c9d1f9e77c1c",
   "outputs": [],
   "execution_count": 19
  },
  {
   "metadata": {
    "ExecuteTime": {
     "end_time": "2025-05-22T03:42:09.096001Z",
     "start_time": "2025-05-22T03:42:09.003603Z"
    }
   },
   "cell_type": "code",
   "source": "df_spark.show()",
   "id": "65d9ca9a2779fa55",
   "outputs": [
    {
     "name": "stdout",
     "output_type": "stream",
     "text": [
      "+---------+---+----------+------+-----------------------+\n",
      "|     Name|age|Experience|Salary|Experience after 2 year|\n",
      "+---------+---+----------+------+-----------------------+\n",
      "|    Krish| 31|        10| 30000|                     12|\n",
      "|Sudhanshu| 30|         8| 25000|                     10|\n",
      "|    Sunny| 29|         4| 20000|                      6|\n",
      "|     Paul| 24|         3| 20000|                      5|\n",
      "|   Harsha| 21|         1| 15000|                      3|\n",
      "|  Shubham| 23|         2| 18000|                      4|\n",
      "+---------+---+----------+------+-----------------------+\n",
      "\n"
     ]
    }
   ],
   "execution_count": 20
  },
  {
   "metadata": {
    "ExecuteTime": {
     "end_time": "2025-05-22T03:43:12.474879Z",
     "start_time": "2025-05-22T03:43:12.464290Z"
    }
   },
   "cell_type": "code",
   "source": "df_spark = df_spark.drop(\"Experience after 2 year\")",
   "id": "dd5d5c65f7a3ca23",
   "outputs": [],
   "execution_count": 21
  },
  {
   "metadata": {
    "ExecuteTime": {
     "end_time": "2025-05-22T03:43:19.530814Z",
     "start_time": "2025-05-22T03:43:19.466001Z"
    }
   },
   "cell_type": "code",
   "source": "df_spark.show()",
   "id": "2cd5b5d43ce670bb",
   "outputs": [
    {
     "name": "stdout",
     "output_type": "stream",
     "text": [
      "+---------+---+----------+------+\n",
      "|     Name|age|Experience|Salary|\n",
      "+---------+---+----------+------+\n",
      "|    Krish| 31|        10| 30000|\n",
      "|Sudhanshu| 30|         8| 25000|\n",
      "|    Sunny| 29|         4| 20000|\n",
      "|     Paul| 24|         3| 20000|\n",
      "|   Harsha| 21|         1| 15000|\n",
      "|  Shubham| 23|         2| 18000|\n",
      "+---------+---+----------+------+\n",
      "\n"
     ]
    }
   ],
   "execution_count": 22
  },
  {
   "metadata": {
    "ExecuteTime": {
     "end_time": "2025-05-22T03:44:07.268993Z",
     "start_time": "2025-05-22T03:44:07.197422Z"
    }
   },
   "cell_type": "code",
   "source": [
    "# Rename column\n",
    "df_spark = df_spark.withColumnRenamed('Name', 'New Name').show()"
   ],
   "id": "2667b30f8fba7e3e",
   "outputs": [
    {
     "name": "stdout",
     "output_type": "stream",
     "text": [
      "+---------+---+----------+------+\n",
      "| New Name|age|Experience|Salary|\n",
      "+---------+---+----------+------+\n",
      "|    Krish| 31|        10| 30000|\n",
      "|Sudhanshu| 30|         8| 25000|\n",
      "|    Sunny| 29|         4| 20000|\n",
      "|     Paul| 24|         3| 20000|\n",
      "|   Harsha| 21|         1| 15000|\n",
      "|  Shubham| 23|         2| 18000|\n",
      "+---------+---+----------+------+\n",
      "\n"
     ]
    }
   ],
   "execution_count": 23
  },
  {
   "metadata": {},
   "cell_type": "code",
   "outputs": [],
   "execution_count": null,
   "source": "",
   "id": "4a01ad838e9e36d4"
  }
 ],
 "metadata": {
  "kernelspec": {
   "display_name": "Python 3",
   "language": "python",
   "name": "python3"
  },
  "language_info": {
   "codemirror_mode": {
    "name": "ipython",
    "version": 2
   },
   "file_extension": ".py",
   "mimetype": "text/x-python",
   "name": "python",
   "nbconvert_exporter": "python",
   "pygments_lexer": "ipython2",
   "version": "2.7.6"
  }
 },
 "nbformat": 4,
 "nbformat_minor": 5
}
