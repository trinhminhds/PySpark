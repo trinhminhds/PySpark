{
 "cells": [
  {
   "metadata": {},
   "cell_type": "markdown",
   "source": "# Example Of Pyspark ML",
   "id": "860a5c8d2561b9fc"
  },
  {
   "cell_type": "code",
   "id": "initial_id",
   "metadata": {
    "collapsed": true,
    "ExecuteTime": {
     "end_time": "2025-05-22T07:01:31.588578Z",
     "start_time": "2025-05-22T07:01:31.439868Z"
    }
   },
   "source": "from pyspark.sql import SparkSession",
   "outputs": [],
   "execution_count": 1
  },
  {
   "metadata": {
    "ExecuteTime": {
     "end_time": "2025-05-22T07:02:26.377466Z",
     "start_time": "2025-05-22T07:02:23.046185Z"
    }
   },
   "cell_type": "code",
   "source": "spark = SparkSession.builder.appName(\"Missing\").getOrCreate()",
   "id": "96abc24152b53aaa",
   "outputs": [],
   "execution_count": 2
  },
  {
   "metadata": {
    "ExecuteTime": {
     "end_time": "2025-05-22T07:03:27.313969Z",
     "start_time": "2025-05-22T07:03:23.468454Z"
    }
   },
   "cell_type": "code",
   "source": "training = spark.read.csv(\"./Pyspark-With-Python/test1.csv\", header=True, inferSchema=True)",
   "id": "5100cb00f26eaaf7",
   "outputs": [],
   "execution_count": 3
  },
  {
   "metadata": {
    "ExecuteTime": {
     "end_time": "2025-05-22T07:03:28.806323Z",
     "start_time": "2025-05-22T07:03:28.594332Z"
    }
   },
   "cell_type": "code",
   "source": "training.show()",
   "id": "e004b449d0353d95",
   "outputs": [
    {
     "name": "stdout",
     "output_type": "stream",
     "text": [
      "+---------+---+----------+------+\n",
      "|     Name|age|Experience|Salary|\n",
      "+---------+---+----------+------+\n",
      "|    Krish| 31|        10| 30000|\n",
      "|Sudhanshu| 30|         8| 25000|\n",
      "|    Sunny| 29|         4| 20000|\n",
      "|     Paul| 24|         3| 20000|\n",
      "|   Harsha| 21|         1| 15000|\n",
      "|  Shubham| 23|         2| 18000|\n",
      "+---------+---+----------+------+\n",
      "\n"
     ]
    }
   ],
   "execution_count": 4
  },
  {
   "metadata": {
    "ExecuteTime": {
     "end_time": "2025-05-22T07:03:39.500226Z",
     "start_time": "2025-05-22T07:03:39.495222Z"
    }
   },
   "cell_type": "code",
   "source": "training.printSchema()",
   "id": "25c19a0e59fb66c0",
   "outputs": [
    {
     "name": "stdout",
     "output_type": "stream",
     "text": [
      "root\n",
      " |-- Name: string (nullable = true)\n",
      " |-- age: integer (nullable = true)\n",
      " |-- Experience: integer (nullable = true)\n",
      " |-- Salary: integer (nullable = true)\n",
      "\n"
     ]
    }
   ],
   "execution_count": 5
  },
  {
   "metadata": {
    "ExecuteTime": {
     "end_time": "2025-05-22T07:03:57.038073Z",
     "start_time": "2025-05-22T07:03:57.031069Z"
    }
   },
   "cell_type": "code",
   "source": "training.columns",
   "id": "b76dbf4a2d669932",
   "outputs": [
    {
     "data": {
      "text/plain": [
       "['Name', 'age', 'Experience', 'Salary']"
      ]
     },
     "execution_count": 6,
     "metadata": {},
     "output_type": "execute_result"
    }
   ],
   "execution_count": 6
  },
  {
   "metadata": {},
   "cell_type": "markdown",
   "source": "[Age, Experience]---->new feature----->independent feature",
   "id": "fa6543dc063f72f8"
  },
  {
   "metadata": {
    "ExecuteTime": {
     "end_time": "2025-05-22T07:07:33.423071Z",
     "start_time": "2025-05-22T07:07:33.147086Z"
    }
   },
   "cell_type": "code",
   "source": [
    "from pyspark.ml.feature import VectorAssembler\n",
    "featureassembler = VectorAssembler(inputCols=['age', 'Experience'], outputCol=\"Independent features\")"
   ],
   "id": "3695a47cb3419dc1",
   "outputs": [],
   "execution_count": 7
  },
  {
   "metadata": {
    "ExecuteTime": {
     "end_time": "2025-05-22T07:07:56.256839Z",
     "start_time": "2025-05-22T07:07:56.153842Z"
    }
   },
   "cell_type": "code",
   "source": "output = featureassembler.transform(training)",
   "id": "dbf201231d39f04d",
   "outputs": [],
   "execution_count": 8
  },
  {
   "metadata": {
    "ExecuteTime": {
     "end_time": "2025-05-22T07:08:02.162064Z",
     "start_time": "2025-05-22T07:08:01.777625Z"
    }
   },
   "cell_type": "code",
   "source": "output.show()",
   "id": "fe576a4820a081a5",
   "outputs": [
    {
     "name": "stdout",
     "output_type": "stream",
     "text": [
      "+---------+---+----------+------+--------------------+\n",
      "|     Name|age|Experience|Salary|Independent features|\n",
      "+---------+---+----------+------+--------------------+\n",
      "|    Krish| 31|        10| 30000|         [31.0,10.0]|\n",
      "|Sudhanshu| 30|         8| 25000|          [30.0,8.0]|\n",
      "|    Sunny| 29|         4| 20000|          [29.0,4.0]|\n",
      "|     Paul| 24|         3| 20000|          [24.0,3.0]|\n",
      "|   Harsha| 21|         1| 15000|          [21.0,1.0]|\n",
      "|  Shubham| 23|         2| 18000|          [23.0,2.0]|\n",
      "+---------+---+----------+------+--------------------+\n",
      "\n"
     ]
    }
   ],
   "execution_count": 9
  },
  {
   "metadata": {
    "ExecuteTime": {
     "end_time": "2025-05-22T07:10:03.773663Z",
     "start_time": "2025-05-22T07:10:03.769104Z"
    }
   },
   "cell_type": "code",
   "source": "output.columns",
   "id": "99979955ad04a32a",
   "outputs": [
    {
     "data": {
      "text/plain": [
       "['Name', 'age', 'Experience', 'Salary', 'Independent features']"
      ]
     },
     "execution_count": 10,
     "metadata": {},
     "output_type": "execute_result"
    }
   ],
   "execution_count": 10
  },
  {
   "metadata": {
    "ExecuteTime": {
     "end_time": "2025-05-22T07:10:49.541781Z",
     "start_time": "2025-05-22T07:10:49.518615Z"
    }
   },
   "cell_type": "code",
   "source": "finalized_data = output.select(\"Independent features\", \"Salary\")",
   "id": "c56bc20ce212438b",
   "outputs": [],
   "execution_count": 11
  },
  {
   "metadata": {
    "ExecuteTime": {
     "end_time": "2025-05-22T07:17:35.991783Z",
     "start_time": "2025-05-22T07:17:35.916674Z"
    }
   },
   "cell_type": "code",
   "source": "finalized_data.show()",
   "id": "19415e6b0f22cd2f",
   "outputs": [
    {
     "name": "stdout",
     "output_type": "stream",
     "text": [
      "+--------------------+------+\n",
      "|Independent features|Salary|\n",
      "+--------------------+------+\n",
      "|         [31.0,10.0]| 30000|\n",
      "|          [30.0,8.0]| 25000|\n",
      "|          [29.0,4.0]| 20000|\n",
      "|          [24.0,3.0]| 20000|\n",
      "|          [21.0,1.0]| 15000|\n",
      "|          [23.0,2.0]| 18000|\n",
      "+--------------------+------+\n",
      "\n"
     ]
    }
   ],
   "execution_count": 24
  },
  {
   "metadata": {
    "ExecuteTime": {
     "end_time": "2025-05-22T07:18:44.688641Z",
     "start_time": "2025-05-22T07:18:44.329131Z"
    }
   },
   "cell_type": "code",
   "source": [
    "from pyspark.ml.regression import LinearRegression\n",
    "# train test split\n",
    "train_data,test_data=finalized_data.randomSplit([0.75,0.25])\n",
    "regressor=LinearRegression(featuresCol='Independent features', labelCol='Salary')\n",
    "regressor=regressor.fit(train_data)"
   ],
   "id": "49d05fa25be4d88c",
   "outputs": [],
   "execution_count": 26
  },
  {
   "metadata": {
    "ExecuteTime": {
     "end_time": "2025-05-22T07:18:59.896286Z",
     "start_time": "2025-05-22T07:18:59.795667Z"
    }
   },
   "cell_type": "code",
   "source": "train_data.show()",
   "id": "17f11347ab3a5c7d",
   "outputs": [
    {
     "name": "stdout",
     "output_type": "stream",
     "text": [
      "+--------------------+------+\n",
      "|Independent features|Salary|\n",
      "+--------------------+------+\n",
      "|          [21.0,1.0]| 15000|\n",
      "|          [23.0,2.0]| 18000|\n",
      "|          [29.0,4.0]| 20000|\n",
      "|          [30.0,8.0]| 25000|\n",
      "+--------------------+------+\n",
      "\n"
     ]
    }
   ],
   "execution_count": 27
  },
  {
   "metadata": {
    "ExecuteTime": {
     "end_time": "2025-05-22T07:19:08.956511Z",
     "start_time": "2025-05-22T07:19:08.864904Z"
    }
   },
   "cell_type": "code",
   "source": "test_data.show()",
   "id": "eb3ad492a7205b4f",
   "outputs": [
    {
     "name": "stdout",
     "output_type": "stream",
     "text": [
      "+--------------------+------+\n",
      "|Independent features|Salary|\n",
      "+--------------------+------+\n",
      "|          [24.0,3.0]| 20000|\n",
      "|         [31.0,10.0]| 30000|\n",
      "+--------------------+------+\n",
      "\n"
     ]
    }
   ],
   "execution_count": 28
  },
  {
   "metadata": {
    "ExecuteTime": {
     "end_time": "2025-05-22T07:19:13.417846Z",
     "start_time": "2025-05-22T07:19:13.409068Z"
    }
   },
   "cell_type": "code",
   "source": "regressor.coefficients",
   "id": "343e7be59ba0f35",
   "outputs": [
    {
     "data": {
      "text/plain": [
       "DenseVector([109.3058, 1199.4092])"
      ]
     },
     "execution_count": 29,
     "metadata": {},
     "output_type": "execute_result"
    }
   ],
   "execution_count": 29
  },
  {
   "metadata": {
    "ExecuteTime": {
     "end_time": "2025-05-22T07:19:14.114397Z",
     "start_time": "2025-05-22T07:19:14.109738Z"
    }
   },
   "cell_type": "code",
   "source": "regressor.intercept",
   "id": "3590444ed7ba6bc",
   "outputs": [
    {
     "data": {
      "text/plain": [
       "12187.592319054227"
      ]
     },
     "execution_count": 30,
     "metadata": {},
     "output_type": "execute_result"
    }
   ],
   "execution_count": 30
  },
  {
   "metadata": {
    "ExecuteTime": {
     "end_time": "2025-05-22T07:19:17.304769Z",
     "start_time": "2025-05-22T07:19:17.175939Z"
    }
   },
   "cell_type": "code",
   "source": "pred_results=regressor.evaluate(test_data)",
   "id": "749f1f3732cbc467",
   "outputs": [],
   "execution_count": 31
  },
  {
   "metadata": {
    "ExecuteTime": {
     "end_time": "2025-05-22T07:19:44.363551Z",
     "start_time": "2025-05-22T07:19:44.226510Z"
    }
   },
   "cell_type": "code",
   "source": "pred_results.predictions.show()",
   "id": "1467bd1931650eee",
   "outputs": [
    {
     "name": "stdout",
     "output_type": "stream",
     "text": [
      "+--------------------+------+------------------+\n",
      "|Independent features|Salary|        prediction|\n",
      "+--------------------+------+------------------+\n",
      "|          [24.0,3.0]| 20000| 18409.15805022155|\n",
      "|         [31.0,10.0]| 30000|27570.162481536143|\n",
      "+--------------------+------+------------------+\n",
      "\n"
     ]
    }
   ],
   "execution_count": 32
  },
  {
   "metadata": {
    "ExecuteTime": {
     "end_time": "2025-05-22T07:20:13.544091Z",
     "start_time": "2025-05-22T07:20:13.539548Z"
    }
   },
   "cell_type": "code",
   "source": "pred_results.meanAbsoluteError, pred_results.meanSquaredError",
   "id": "40ceae0115eedd8b",
   "outputs": [
    {
     "data": {
      "text/plain": [
       "(2010.339734121153, 4217444.237654746)"
      ]
     },
     "execution_count": 33,
     "metadata": {},
     "output_type": "execute_result"
    }
   ],
   "execution_count": 33
  },
  {
   "metadata": {},
   "cell_type": "code",
   "outputs": [],
   "execution_count": null,
   "source": "",
   "id": "48a587aad82300cb"
  }
 ],
 "metadata": {
  "kernelspec": {
   "display_name": "Python 3",
   "language": "python",
   "name": "python3"
  },
  "language_info": {
   "codemirror_mode": {
    "name": "ipython",
    "version": 2
   },
   "file_extension": ".py",
   "mimetype": "text/x-python",
   "name": "python",
   "nbconvert_exporter": "python",
   "pygments_lexer": "ipython2",
   "version": "2.7.6"
  }
 },
 "nbformat": 4,
 "nbformat_minor": 5
}
