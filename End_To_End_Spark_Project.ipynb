{
 "cells": [
  {
   "cell_type": "code",
   "id": "initial_id",
   "metadata": {
    "collapsed": true,
    "ExecuteTime": {
     "end_time": "2025-05-25T13:42:14.727895Z",
     "start_time": "2025-05-25T13:42:14.717459Z"
    }
   },
   "source": [
    "import pandas as pd\n",
    "import numpy as np\n",
    "import pyspark as sp\n",
    "from pyspark.sql import SparkSession\n",
    "from pyspark.ml.feature import VectorAssembler, StringIndexer, OneHotEncoder\n",
    "from pyspark.ml import Pipeline\n",
    "from pyspark.ml.classification import LogisticRegression\n",
    "import pyspark.ml.tuning as tune\n",
    "import pyspark.ml.evaluation as evals"
   ],
   "outputs": [],
   "execution_count": 88
  },
  {
   "metadata": {
    "ExecuteTime": {
     "end_time": "2025-05-25T10:37:03.753896Z",
     "start_time": "2025-05-25T10:37:03.745197Z"
    }
   },
   "cell_type": "code",
   "source": [
    "sc = sp.SparkContext.getOrCreate()\n",
    "print(sc)\n",
    "print(sc.version)"
   ],
   "id": "d84a7229162cadf5",
   "outputs": [
    {
     "name": "stdout",
     "output_type": "stream",
     "text": [
      "<SparkContext master=local[*] appName=pyspark-shell>\n",
      "3.5.1\n"
     ]
    }
   ],
   "execution_count": 6
  },
  {
   "metadata": {
    "ExecuteTime": {
     "end_time": "2025-05-25T10:36:27.386961Z",
     "start_time": "2025-05-25T10:36:26.621119Z"
    }
   },
   "cell_type": "code",
   "source": [
    "# Create my_spark\n",
    "spark = SparkSession.builder.appName(\"pyspark-project\").getOrCreate()\n",
    "\n",
    "# print my_spark\n",
    "spark"
   ],
   "id": "84506f75e177e970",
   "outputs": [
    {
     "data": {
      "text/plain": [
       "<pyspark.sql.session.SparkSession at 0x2c737fa8b10>"
      ],
      "text/html": [
       "\n",
       "            <div>\n",
       "                <p><b>SparkSession - in-memory</b></p>\n",
       "                \n",
       "        <div>\n",
       "            <p><b>SparkContext</b></p>\n",
       "\n",
       "            <p><a href=\"http://192.168.220.1:4040\">Spark UI</a></p>\n",
       "\n",
       "            <dl>\n",
       "              <dt>Version</dt>\n",
       "                <dd><code>v3.5.1</code></dd>\n",
       "              <dt>Master</dt>\n",
       "                <dd><code>local[*]</code></dd>\n",
       "              <dt>AppName</dt>\n",
       "                <dd><code>pyspark-shell</code></dd>\n",
       "            </dl>\n",
       "        </div>\n",
       "        \n",
       "            </div>\n",
       "        "
      ]
     },
     "execution_count": 4,
     "metadata": {},
     "output_type": "execute_result"
    }
   ],
   "execution_count": 4
  },
  {
   "metadata": {
    "ExecuteTime": {
     "end_time": "2025-05-25T10:42:02.565061Z",
     "start_time": "2025-05-25T10:41:59.535279Z"
    }
   },
   "cell_type": "code",
   "source": [
    "# create pd_temp\n",
    "pd_temp = pd.DataFrame(np.random.random(10))\n",
    "\n",
    "# Create spark_temp from pd_temp\n",
    "spark_temp = spark.createDataFrame(pd_temp)\n",
    "\n",
    "# Examine the table in the catalog\n",
    "print(spark.catalog.listTables())\n",
    "\n",
    "# add spark_temp to the catalog\n",
    "spark_temp.createOrReplaceTempView('temp')\n",
    "\n",
    "# examine the table in the catalog again\n",
    "print(spark.catalog.listTables())"
   ],
   "id": "b1e5ae932e334609",
   "outputs": [
    {
     "name": "stdout",
     "output_type": "stream",
     "text": [
      "[]\n",
      "[Table(name='temp', catalog=None, namespace=[], description=None, tableType='TEMPORARY', isTemporary=True)]\n"
     ]
    }
   ],
   "execution_count": 7
  },
  {
   "metadata": {
    "ExecuteTime": {
     "end_time": "2025-05-25T10:49:35.450902Z",
     "start_time": "2025-05-25T10:49:35.258191Z"
    }
   },
   "cell_type": "code",
   "source": [
    "file_path = './data/airports/airports.csv'\n",
    "\n",
    "# read in the airports path\n",
    "airports = spark.read.csv(file_path, header = True)\n",
    "\n",
    "airports.show(5)"
   ],
   "id": "7c2ed939295fab98",
   "outputs": [
    {
     "name": "stdout",
     "output_type": "stream",
     "text": [
      "+---+--------------------+----------+-----------+----+---+---+\n",
      "|faa|                name|       lat|        lon| alt| tz|dst|\n",
      "+---+--------------------+----------+-----------+----+---+---+\n",
      "|04G|   Lansdowne Airport|41.1304722|-80.6195833|1044| -5|  A|\n",
      "|06A|Moton Field Munic...|32.4605722|-85.6800278| 264| -5|  A|\n",
      "|06C| Schaumburg Regional|41.9893408|-88.1012428| 801| -6|  A|\n",
      "|06N|     Randall Airport| 41.431912|-74.3915611| 523| -5|  A|\n",
      "|09J|Jekyll Island Air...|31.0744722|-81.4277778|  11| -4|  A|\n",
      "+---+--------------------+----------+-----------+----+---+---+\n",
      "only showing top 5 rows\n",
      "\n"
     ]
    }
   ],
   "execution_count": 15
  },
  {
   "metadata": {
    "ExecuteTime": {
     "end_time": "2025-05-25T10:44:50.962794Z",
     "start_time": "2025-05-25T10:44:50.954476Z"
    }
   },
   "cell_type": "code",
   "source": "type(airports)",
   "id": "f727ab0c28a71998",
   "outputs": [
    {
     "data": {
      "text/plain": [
       "pyspark.sql.dataframe.DataFrame"
      ]
     },
     "execution_count": 9,
     "metadata": {},
     "output_type": "execute_result"
    }
   ],
   "execution_count": 9
  },
  {
   "metadata": {
    "ExecuteTime": {
     "end_time": "2025-05-25T10:46:32.048486Z",
     "start_time": "2025-05-25T10:46:31.808118Z"
    }
   },
   "cell_type": "code",
   "source": "spark.catalog.listDatabases()",
   "id": "3c5774790039d8b1",
   "outputs": [
    {
     "data": {
      "text/plain": [
       "[Database(name='default', catalog='spark_catalog', description='default database', locationUri='file:/D:/Data_Engineer/Spark_PySpark/spark-warehouse')]"
      ]
     },
     "execution_count": 11,
     "metadata": {},
     "output_type": "execute_result"
    }
   ],
   "execution_count": 11
  },
  {
   "metadata": {
    "ExecuteTime": {
     "end_time": "2025-05-25T10:47:45.407Z",
     "start_time": "2025-05-25T10:47:45.263956Z"
    }
   },
   "cell_type": "code",
   "source": "spark.catalog.listTables()",
   "id": "8df564d2b54d423a",
   "outputs": [
    {
     "data": {
      "text/plain": [
       "[Table(name='temp', catalog=None, namespace=[], description=None, tableType='TEMPORARY', isTemporary=True)]"
      ]
     },
     "execution_count": 12,
     "metadata": {},
     "output_type": "execute_result"
    }
   ],
   "execution_count": 12
  },
  {
   "metadata": {
    "ExecuteTime": {
     "end_time": "2025-05-25T10:51:28.696369Z",
     "start_time": "2025-05-25T10:51:28.533255Z"
    }
   },
   "cell_type": "code",
   "source": [
    "flights = spark.read.csv(\"./data/airports/flights_small.csv\", header = True)\n",
    "flights.show(5)"
   ],
   "id": "caad83428972d8f",
   "outputs": [
    {
     "name": "stdout",
     "output_type": "stream",
     "text": [
      "+----+-----+---+--------+---------+--------+---------+-------+-------+------+------+----+--------+--------+----+------+\n",
      "|year|month|day|dep_time|dep_delay|arr_time|arr_delay|carrier|tailnum|flight|origin|dest|air_time|distance|hour|minute|\n",
      "+----+-----+---+--------+---------+--------+---------+-------+-------+------+------+----+--------+--------+----+------+\n",
      "|2014|   12|  8|     658|       -7|     935|       -5|     VX| N846VA|  1780|   SEA| LAX|     132|     954|   6|    58|\n",
      "|2014|    1| 22|    1040|        5|    1505|        5|     AS| N559AS|   851|   SEA| HNL|     360|    2677|  10|    40|\n",
      "|2014|    3|  9|    1443|       -2|    1652|        2|     VX| N847VA|   755|   SEA| SFO|     111|     679|  14|    43|\n",
      "|2014|    4|  9|    1705|       45|    1839|       34|     WN| N360SW|   344|   PDX| SJC|      83|     569|  17|     5|\n",
      "|2014|    3|  9|     754|       -1|    1015|        1|     AS| N612AS|   522|   SEA| BUR|     127|     937|   7|    54|\n",
      "+----+-----+---+--------+---------+--------+---------+-------+-------+------+------+----+--------+--------+----+------+\n",
      "only showing top 5 rows\n",
      "\n"
     ]
    }
   ],
   "execution_count": 17
  },
  {
   "metadata": {
    "ExecuteTime": {
     "end_time": "2025-05-25T10:54:46.953409Z",
     "start_time": "2025-05-25T10:54:46.856744Z"
    }
   },
   "cell_type": "code",
   "source": [
    "flights.name = flights.createOrReplaceTempView('flights')\n",
    "spark.catalog.listTables()"
   ],
   "id": "d7e9cb7b24ed4312",
   "outputs": [
    {
     "data": {
      "text/plain": [
       "[Table(name='flights', catalog=None, namespace=[], description=None, tableType='TEMPORARY', isTemporary=True),\n",
       " Table(name='temp', catalog=None, namespace=[], description=None, tableType='TEMPORARY', isTemporary=True)]"
      ]
     },
     "execution_count": 20,
     "metadata": {},
     "output_type": "execute_result"
    }
   ],
   "execution_count": 20
  },
  {
   "metadata": {
    "ExecuteTime": {
     "end_time": "2025-05-25T10:54:51.199843Z",
     "start_time": "2025-05-25T10:54:51.121096Z"
    }
   },
   "cell_type": "code",
   "source": [
    "# Create the dataframe flight\n",
    "flights_df = spark.table('flights')\n",
    "print(flights_df.show(5))"
   ],
   "id": "fdb721079c0fff66",
   "outputs": [
    {
     "name": "stdout",
     "output_type": "stream",
     "text": [
      "+----+-----+---+--------+---------+--------+---------+-------+-------+------+------+----+--------+--------+----+------+\n",
      "|year|month|day|dep_time|dep_delay|arr_time|arr_delay|carrier|tailnum|flight|origin|dest|air_time|distance|hour|minute|\n",
      "+----+-----+---+--------+---------+--------+---------+-------+-------+------+------+----+--------+--------+----+------+\n",
      "|2014|   12|  8|     658|       -7|     935|       -5|     VX| N846VA|  1780|   SEA| LAX|     132|     954|   6|    58|\n",
      "|2014|    1| 22|    1040|        5|    1505|        5|     AS| N559AS|   851|   SEA| HNL|     360|    2677|  10|    40|\n",
      "|2014|    3|  9|    1443|       -2|    1652|        2|     VX| N847VA|   755|   SEA| SFO|     111|     679|  14|    43|\n",
      "|2014|    4|  9|    1705|       45|    1839|       34|     WN| N360SW|   344|   PDX| SJC|      83|     569|  17|     5|\n",
      "|2014|    3|  9|     754|       -1|    1015|        1|     AS| N612AS|   522|   SEA| BUR|     127|     937|   7|    54|\n",
      "+----+-----+---+--------+---------+--------+---------+-------+-------+------+------+----+--------+--------+----+------+\n",
      "only showing top 5 rows\n",
      "\n",
      "None\n"
     ]
    }
   ],
   "execution_count": 21
  },
  {
   "metadata": {
    "ExecuteTime": {
     "end_time": "2025-05-25T10:58:40.152134Z",
     "start_time": "2025-05-25T10:58:40.006979Z"
    }
   },
   "cell_type": "code",
   "source": [
    "# include a new columns called duration_hrs\n",
    "flights = flights.withColumn(\"duration_hrs\", flights_df.air_time / 60)\n",
    "\n",
    "flights.show(5)"
   ],
   "id": "ccd874e55ad2838b",
   "outputs": [
    {
     "name": "stdout",
     "output_type": "stream",
     "text": [
      "+----+-----+---+--------+---------+--------+---------+-------+-------+------+------+----+--------+--------+----+------+------------------+\n",
      "|year|month|day|dep_time|dep_delay|arr_time|arr_delay|carrier|tailnum|flight|origin|dest|air_time|distance|hour|minute|      duration_hrs|\n",
      "+----+-----+---+--------+---------+--------+---------+-------+-------+------+------+----+--------+--------+----+------+------------------+\n",
      "|2014|   12|  8|     658|       -7|     935|       -5|     VX| N846VA|  1780|   SEA| LAX|     132|     954|   6|    58|               2.2|\n",
      "|2014|    1| 22|    1040|        5|    1505|        5|     AS| N559AS|   851|   SEA| HNL|     360|    2677|  10|    40|               6.0|\n",
      "|2014|    3|  9|    1443|       -2|    1652|        2|     VX| N847VA|   755|   SEA| SFO|     111|     679|  14|    43|              1.85|\n",
      "|2014|    4|  9|    1705|       45|    1839|       34|     WN| N360SW|   344|   PDX| SJC|      83|     569|  17|     5|1.3833333333333333|\n",
      "|2014|    3|  9|     754|       -1|    1015|        1|     AS| N612AS|   522|   SEA| BUR|     127|     937|   7|    54|2.1166666666666667|\n",
      "+----+-----+---+--------+---------+--------+---------+-------+-------+------+------+----+--------+--------+----+------+------------------+\n",
      "only showing top 5 rows\n",
      "\n"
     ]
    }
   ],
   "execution_count": 22
  },
  {
   "metadata": {
    "ExecuteTime": {
     "end_time": "2025-05-25T10:59:15.698049Z",
     "start_time": "2025-05-25T10:59:14.239075Z"
    }
   },
   "cell_type": "code",
   "source": "flights.describe().show()",
   "id": "bc77d43d3710ec74",
   "outputs": [
    {
     "name": "stdout",
     "output_type": "stream",
     "text": [
      "+-------+------+------------------+-----------------+------------------+------------------+------------------+------------------+-------+-------+-----------------+------+-----+------------------+-----------------+------------------+-----------------+------------------+\n",
      "|summary|  year|             month|              day|          dep_time|         dep_delay|          arr_time|         arr_delay|carrier|tailnum|           flight|origin| dest|          air_time|         distance|              hour|           minute|      duration_hrs|\n",
      "+-------+------+------------------+-----------------+------------------+------------------+------------------+------------------+-------+-------+-----------------+------+-----+------------------+-----------------+------------------+-----------------+------------------+\n",
      "|  count| 10000|             10000|            10000|             10000|             10000|             10000|             10000|  10000|  10000|            10000| 10000|10000|             10000|            10000|             10000|            10000|              9925|\n",
      "|   mean|2014.0|            6.6438|          15.7009|1277.1158561093248| 6.068629421221865|1477.7236802413272|2.2530982367758186|   NULL|   NULL|        1369.1011|  NULL| NULL|152.88423173803525|        1208.1516|12.465434083601286|30.57244774919614| 2.548070528967267|\n",
      "| stddev|   0.0|3.3191600205962097|8.895142019392079| 524.1142951055886|28.808608062751805| 526.5936522261665|31.074918600451877|   NULL|   NULL|1498.714573831908|  NULL| NULL|  72.8656286392139|656.8599023464376| 5.246262953748826|17.98533264217002|1.2144271439868943|\n",
      "|    min|  2014|                 1|                1|                 1|                -1|                 1|                -1|     AA| D942DN|               10|   PDX|  ABQ|               100|             1009|                 0|                0|0.3333333333333333|\n",
      "|    max|  2014|                 9|                9|                NA|                NA|                NA|                NA|     WN|     NA|              998|   SEA|  TUS|                NA|              991|                NA|               NA| 6.816666666666666|\n",
      "+-------+------+------------------+-----------------+------------------+------------------+------------------+------------------+-------+-------+-----------------+------+-----+------------------+-----------------+------------------+-----------------+------------------+\n",
      "\n"
     ]
    }
   ],
   "execution_count": 23
  },
  {
   "metadata": {
    "ExecuteTime": {
     "end_time": "2025-05-25T11:01:44.152632Z",
     "start_time": "2025-05-25T11:01:44.003696Z"
    }
   },
   "cell_type": "code",
   "source": [
    "# filter flights with a SQL string\n",
    "long_flights = flights.filter('distance > 1000')\n",
    "long_flights.show(5)"
   ],
   "id": "49ab489a55015134",
   "outputs": [
    {
     "name": "stdout",
     "output_type": "stream",
     "text": [
      "+----+-----+---+--------+---------+--------+---------+-------+-------+------+------+----+--------+--------+----+------+-----------------+\n",
      "|year|month|day|dep_time|dep_delay|arr_time|arr_delay|carrier|tailnum|flight|origin|dest|air_time|distance|hour|minute|     duration_hrs|\n",
      "+----+-----+---+--------+---------+--------+---------+-------+-------+------+------+----+--------+--------+----+------+-----------------+\n",
      "|2014|    1| 22|    1040|        5|    1505|        5|     AS| N559AS|   851|   SEA| HNL|     360|    2677|  10|    40|              6.0|\n",
      "|2014|    4| 19|    1236|       -4|    1508|       -7|     AS| N309AS|   490|   SEA| SAN|     135|    1050|  12|    36|             2.25|\n",
      "|2014|   11| 19|    1812|       -3|    2352|       -4|     AS| N564AS|    26|   SEA| ORD|     198|    1721|  18|    12|              3.3|\n",
      "|2014|    8|  3|    1120|        0|    1415|        2|     AS| N305AS|   656|   SEA| PHX|     154|    1107|  11|    20|2.566666666666667|\n",
      "|2014|   11| 12|    2346|       -4|     217|      -28|     AS| N765AS|   121|   SEA| ANC|     183|    1448|  23|    46|             3.05|\n",
      "+----+-----+---+--------+---------+--------+---------+-------+-------+------+------+----+--------+--------+----+------+-----------------+\n",
      "only showing top 5 rows\n",
      "\n"
     ]
    }
   ],
   "execution_count": 24
  },
  {
   "metadata": {
    "ExecuteTime": {
     "end_time": "2025-05-25T11:12:33.912628Z",
     "start_time": "2025-05-25T11:12:33.832953Z"
    }
   },
   "cell_type": "code",
   "source": [
    "# filter flights with a boolean columns\n",
    "long_flights2 = flights.filter(flights.distance > 1000)\n",
    "long_flights2.show(5)"
   ],
   "id": "1a013975b6295ba3",
   "outputs": [
    {
     "name": "stdout",
     "output_type": "stream",
     "text": [
      "+----+-----+---+--------+---------+--------+---------+-------+-------+------+------+----+--------+--------+----+------+-----------------+\n",
      "|year|month|day|dep_time|dep_delay|arr_time|arr_delay|carrier|tailnum|flight|origin|dest|air_time|distance|hour|minute|     duration_hrs|\n",
      "+----+-----+---+--------+---------+--------+---------+-------+-------+------+------+----+--------+--------+----+------+-----------------+\n",
      "|2014|    1| 22|    1040|        5|    1505|        5|     AS| N559AS|   851|   SEA| HNL|     360|    2677|  10|    40|              6.0|\n",
      "|2014|    4| 19|    1236|       -4|    1508|       -7|     AS| N309AS|   490|   SEA| SAN|     135|    1050|  12|    36|             2.25|\n",
      "|2014|   11| 19|    1812|       -3|    2352|       -4|     AS| N564AS|    26|   SEA| ORD|     198|    1721|  18|    12|              3.3|\n",
      "|2014|    8|  3|    1120|        0|    1415|        2|     AS| N305AS|   656|   SEA| PHX|     154|    1107|  11|    20|2.566666666666667|\n",
      "|2014|   11| 12|    2346|       -4|     217|      -28|     AS| N765AS|   121|   SEA| ANC|     183|    1448|  23|    46|             3.05|\n",
      "+----+-----+---+--------+---------+--------+---------+-------+-------+------+------+----+--------+--------+----+------+-----------------+\n",
      "only showing top 5 rows\n",
      "\n"
     ]
    }
   ],
   "execution_count": 25
  },
  {
   "metadata": {
    "ExecuteTime": {
     "end_time": "2025-05-25T11:14:53.895194Z",
     "start_time": "2025-05-25T11:14:53.875432Z"
    }
   },
   "cell_type": "code",
   "source": [
    "# select the first set of columns as a string\n",
    "selected_1 = flights.select('tailnum', 'origin', 'dest')\n",
    "selected_1"
   ],
   "id": "d1adb25fc13c956c",
   "outputs": [
    {
     "data": {
      "text/plain": [
       "DataFrame[tailnum: string, origin: string, dest: string]"
      ]
     },
     "execution_count": 27,
     "metadata": {},
     "output_type": "execute_result"
    }
   ],
   "execution_count": 27
  },
  {
   "metadata": {
    "ExecuteTime": {
     "end_time": "2025-05-25T11:16:48.828925Z",
     "start_time": "2025-05-25T11:16:48.731422Z"
    }
   },
   "cell_type": "code",
   "source": [
    "# select the second set of columns unsinf df.columns\n",
    "temp = flights.select(flights.origin, flights.dest, flights.carrier)\n",
    "temp.show(5)"
   ],
   "id": "6167bfd60bd86004",
   "outputs": [
    {
     "name": "stdout",
     "output_type": "stream",
     "text": [
      "+------+----+-------+\n",
      "|origin|dest|carrier|\n",
      "+------+----+-------+\n",
      "|   SEA| LAX|     VX|\n",
      "|   SEA| HNL|     AS|\n",
      "|   SEA| SFO|     VX|\n",
      "|   PDX| SJC|     WN|\n",
      "|   SEA| BUR|     AS|\n",
      "+------+----+-------+\n",
      "only showing top 5 rows\n",
      "\n"
     ]
    }
   ],
   "execution_count": 28
  },
  {
   "metadata": {
    "ExecuteTime": {
     "end_time": "2025-05-25T11:18:31.140207Z",
     "start_time": "2025-05-25T11:18:31.131381Z"
    }
   },
   "cell_type": "code",
   "source": [
    "# define first filter to only keep flights from SEA to PDX\n",
    "filterA = flights.origin == 'SEA'\n",
    "filterB = flights.dest == 'PDX'"
   ],
   "id": "2d3d6e1093df12c1",
   "outputs": [],
   "execution_count": 29
  },
  {
   "metadata": {
    "ExecuteTime": {
     "end_time": "2025-05-25T11:18:51.504515Z",
     "start_time": "2025-05-25T11:18:51.410092Z"
    }
   },
   "cell_type": "code",
   "source": [
    "selected_2 = temp.filter(filterA).filter(filterB)\n",
    "selected_2.show(5)"
   ],
   "id": "d5158b1e8ee87d52",
   "outputs": [
    {
     "name": "stdout",
     "output_type": "stream",
     "text": [
      "+------+----+-------+\n",
      "|origin|dest|carrier|\n",
      "+------+----+-------+\n",
      "|   SEA| PDX|     OO|\n",
      "|   SEA| PDX|     OO|\n",
      "|   SEA| PDX|     OO|\n",
      "|   SEA| PDX|     OO|\n",
      "|   SEA| PDX|     OO|\n",
      "+------+----+-------+\n",
      "only showing top 5 rows\n",
      "\n"
     ]
    }
   ],
   "execution_count": 30
  },
  {
   "metadata": {
    "ExecuteTime": {
     "end_time": "2025-05-25T11:23:51.189670Z",
     "start_time": "2025-05-25T11:23:51.170117Z"
    }
   },
   "cell_type": "code",
   "source": [
    "# Create a table of the average speed of each flight both ways\n",
    "# Calculate average speed by dividing the distance by the air_time (converted to hours). use the .alias() me thod name\n",
    "# define avg_speed\n",
    "avg_speed = (flights.distance / (flights.air_time / 60)).alias('avg_speed')\n",
    "speed_1 = flights.select('origin', 'dest', 'tailnum', avg_speed)"
   ],
   "id": "211afb99d315a4bb",
   "outputs": [],
   "execution_count": 32
  },
  {
   "metadata": {
    "ExecuteTime": {
     "end_time": "2025-05-25T11:24:08.599291Z",
     "start_time": "2025-05-25T11:24:08.500179Z"
    }
   },
   "cell_type": "code",
   "source": "speed_1.show(5)",
   "id": "43d7987e27c8b00b",
   "outputs": [
    {
     "name": "stdout",
     "output_type": "stream",
     "text": [
      "+------+----+-------+------------------+\n",
      "|origin|dest|tailnum|         avg_speed|\n",
      "+------+----+-------+------------------+\n",
      "|   SEA| LAX| N846VA| 433.6363636363636|\n",
      "|   SEA| HNL| N559AS| 446.1666666666667|\n",
      "|   SEA| SFO| N847VA|367.02702702702703|\n",
      "|   PDX| SJC| N360SW| 411.3253012048193|\n",
      "|   SEA| BUR| N612AS| 442.6771653543307|\n",
      "+------+----+-------+------------------+\n",
      "only showing top 5 rows\n",
      "\n"
     ]
    }
   ],
   "execution_count": 33
  },
  {
   "metadata": {
    "ExecuteTime": {
     "end_time": "2025-05-25T11:44:15.860823Z",
     "start_time": "2025-05-25T11:44:15.758730Z"
    }
   },
   "cell_type": "code",
   "source": [
    "# using the Spark method .selectExpr()\n",
    "speed_2 = flights.selectExpr('origin', 'dest', 'tailnum', 'distance/(air_time/60) as avg_speed')\n",
    "speed_2.show(5)"
   ],
   "id": "7b4253d7ee432702",
   "outputs": [
    {
     "name": "stdout",
     "output_type": "stream",
     "text": [
      "+------+----+-------+------------------+\n",
      "|origin|dest|tailnum|         avg_speed|\n",
      "+------+----+-------+------------------+\n",
      "|   SEA| LAX| N846VA| 433.6363636363636|\n",
      "|   SEA| HNL| N559AS| 446.1666666666667|\n",
      "|   SEA| SFO| N847VA|367.02702702702703|\n",
      "|   PDX| SJC| N360SW| 411.3253012048193|\n",
      "|   SEA| BUR| N612AS| 442.6771653543307|\n",
      "+------+----+-------+------------------+\n",
      "only showing top 5 rows\n",
      "\n"
     ]
    }
   ],
   "execution_count": 34
  },
  {
   "metadata": {
    "ExecuteTime": {
     "end_time": "2025-05-25T11:47:17.019498Z",
     "start_time": "2025-05-25T11:47:16.724584Z"
    }
   },
   "cell_type": "code",
   "source": [
    "# arr_time: string and distance: string, so to find min() and max() we need to covert this float\n",
    "flights = flights.withColumn('distance', flights.distance.cast('float'))\n",
    "flights = flights.withColumn('air_time', flights.air_time.cast('float'))\n",
    "\n",
    "flights.describe('air_time', 'distance').show()"
   ],
   "id": "ece07ae1a70870f3",
   "outputs": [
    {
     "name": "stdout",
     "output_type": "stream",
     "text": [
      "+-------+------------------+-----------------+\n",
      "|summary|          air_time|         distance|\n",
      "+-------+------------------+-----------------+\n",
      "|  count|              9925|            10000|\n",
      "|   mean|152.88423173803525|        1208.1516|\n",
      "| stddev|  72.8656286392139|656.8599023464376|\n",
      "|    min|              20.0|             93.0|\n",
      "|    max|             409.0|           2724.0|\n",
      "+-------+------------------+-----------------+\n",
      "\n"
     ]
    }
   ],
   "execution_count": 35
  },
  {
   "metadata": {
    "ExecuteTime": {
     "end_time": "2025-05-25T11:50:36.435503Z",
     "start_time": "2025-05-25T11:50:36.271433Z"
    }
   },
   "cell_type": "code",
   "source": [
    "# find the length of the shortest (in terms of distance) flight that left PDX\n",
    "flights.filter(flights.origin == 'PDX').groupBy().min('distance').show()"
   ],
   "id": "1b45fc246e818e5d",
   "outputs": [
    {
     "name": "stdout",
     "output_type": "stream",
     "text": [
      "+-------------+\n",
      "|min(distance)|\n",
      "+-------------+\n",
      "|        106.0|\n",
      "+-------------+\n",
      "\n"
     ]
    }
   ],
   "execution_count": 37
  },
  {
   "metadata": {
    "ExecuteTime": {
     "end_time": "2025-05-25T11:53:45.889911Z",
     "start_time": "2025-05-25T11:53:45.785945Z"
    }
   },
   "cell_type": "code",
   "source": [
    "# find the length of the longest (in terms of time) flight that left SEA\n",
    "flights.filter(flights.origin == 'SEA').groupBy().max('air_time').show()"
   ],
   "id": "39921e97ac58e732",
   "outputs": [
    {
     "name": "stdout",
     "output_type": "stream",
     "text": [
      "+-------------+\n",
      "|max(air_time)|\n",
      "+-------------+\n",
      "|        409.0|\n",
      "+-------------+\n",
      "\n"
     ]
    }
   ],
   "execution_count": 39
  },
  {
   "metadata": {
    "ExecuteTime": {
     "end_time": "2025-05-25T11:55:02.275260Z",
     "start_time": "2025-05-25T11:55:02.142931Z"
    }
   },
   "cell_type": "code",
   "source": [
    "# get the average air time of Delta Airlines flights that left SEA\n",
    "flights.filter(flights.carrier == 'DL').filter(flights.origin == 'SEA').groupBy().avg('air_time').show()"
   ],
   "id": "43be963697329cdc",
   "outputs": [
    {
     "name": "stdout",
     "output_type": "stream",
     "text": [
      "+------------------+\n",
      "|     avg(air_time)|\n",
      "+------------------+\n",
      "|188.20689655172413|\n",
      "+------------------+\n",
      "\n"
     ]
    }
   ],
   "execution_count": 41
  },
  {
   "metadata": {
    "ExecuteTime": {
     "end_time": "2025-05-25T11:57:08.322406Z",
     "start_time": "2025-05-25T11:57:08.184655Z"
    }
   },
   "cell_type": "code",
   "source": [
    "# get the total number of hours all planes in this dataset spent in the air by creating a column called duration_hrs\n",
    "flights.withColumn('duration_hrs', flights.air_time / 60).groupBy().sum('duration_hrs').show()"
   ],
   "id": "f1ab17b1c1b85b40",
   "outputs": [
    {
     "name": "stdout",
     "output_type": "stream",
     "text": [
      "+------------------+\n",
      "| sum(duration_hrs)|\n",
      "+------------------+\n",
      "|25289.600000000126|\n",
      "+------------------+\n",
      "\n"
     ]
    }
   ],
   "execution_count": 42
  },
  {
   "metadata": {
    "ExecuteTime": {
     "end_time": "2025-05-25T11:58:32.068065Z",
     "start_time": "2025-05-25T11:58:32.060194Z"
    }
   },
   "cell_type": "code",
   "source": [
    "# Group by tailnum column\n",
    "by_plane = flights.groupBy('tailnum')"
   ],
   "id": "c7ea2368128fbe9b",
   "outputs": [],
   "execution_count": 43
  },
  {
   "metadata": {
    "ExecuteTime": {
     "end_time": "2025-05-25T12:00:13.994703Z",
     "start_time": "2025-05-25T12:00:13.366023Z"
    }
   },
   "cell_type": "code",
   "source": [
    "# use the .count() method with no arguments to count the number of flights each plane made\n",
    "by_plane.count().show()"
   ],
   "id": "8b8f74c83680a383",
   "outputs": [
    {
     "name": "stdout",
     "output_type": "stream",
     "text": [
      "+-------+-----+\n",
      "|tailnum|count|\n",
      "+-------+-----+\n",
      "| N442AS|   38|\n",
      "| N102UW|    2|\n",
      "| N36472|    4|\n",
      "| N38451|    4|\n",
      "| N73283|    4|\n",
      "| N513UA|    2|\n",
      "| N954WN|    5|\n",
      "| N388DA|    3|\n",
      "| N567AA|    1|\n",
      "| N516UA|    2|\n",
      "| N927DN|    1|\n",
      "| N8322X|    1|\n",
      "| N466SW|    1|\n",
      "|  N6700|    1|\n",
      "| N607AS|   45|\n",
      "| N622SW|    4|\n",
      "| N584AS|   31|\n",
      "| N914WN|    4|\n",
      "| N654AW|    2|\n",
      "| N336NW|    1|\n",
      "+-------+-----+\n",
      "only showing top 20 rows\n",
      "\n"
     ]
    }
   ],
   "execution_count": 44
  },
  {
   "metadata": {
    "ExecuteTime": {
     "end_time": "2025-05-25T12:01:09.352179Z",
     "start_time": "2025-05-25T12:01:09.345080Z"
    }
   },
   "cell_type": "code",
   "source": [
    "# group by origin column\n",
    "by_origin = flights.groupBy('origin')"
   ],
   "id": "cc9f6443a98282b1",
   "outputs": [],
   "execution_count": 46
  },
  {
   "metadata": {
    "ExecuteTime": {
     "end_time": "2025-05-25T12:02:24.762594Z",
     "start_time": "2025-05-25T12:02:24.579363Z"
    }
   },
   "cell_type": "code",
   "source": [
    "# find the .avg() of the air_time column to find average duration of flights from PDX and SEA\n",
    "by_origin.avg('air_time').show()"
   ],
   "id": "3095ad926ba18768",
   "outputs": [
    {
     "name": "stdout",
     "output_type": "stream",
     "text": [
      "+------+------------------+\n",
      "|origin|     avg(air_time)|\n",
      "+------+------------------+\n",
      "|   SEA| 160.4361496051259|\n",
      "|   PDX|137.11543248288737|\n",
      "+------+------------------+\n",
      "\n"
     ]
    }
   ],
   "execution_count": 47
  },
  {
   "metadata": {
    "ExecuteTime": {
     "end_time": "2025-05-25T12:05:34.234901Z",
     "start_time": "2025-05-25T12:05:34.219824Z"
    }
   },
   "cell_type": "code",
   "source": [
    "# import pyspark.sql.functions as f\n",
    "# covert to dep_delay to numeric column\n",
    "flights = flights.withColumn('dep_delay', flights.dep_delay.cast('float'))\n",
    "\n",
    "# group by month and dest\n",
    "by_month_dest = flights.groupBy('month', 'dest')"
   ],
   "id": "c6c19af1b2309494",
   "outputs": [],
   "execution_count": 48
  },
  {
   "metadata": {
    "ExecuteTime": {
     "end_time": "2025-05-25T12:06:32.353212Z",
     "start_time": "2025-05-25T12:06:31.861163Z"
    }
   },
   "cell_type": "code",
   "source": [
    "# average departure delay by moth and destination\n",
    "by_month_dest.avg('dep_delay').show()"
   ],
   "id": "32c8cf5023ae056a",
   "outputs": [
    {
     "name": "stdout",
     "output_type": "stream",
     "text": [
      "+-----+----+--------------------+\n",
      "|month|dest|      avg(dep_delay)|\n",
      "+-----+----+--------------------+\n",
      "|   11| TUS| -2.3333333333333335|\n",
      "|   11| ANC|   7.529411764705882|\n",
      "|    1| BUR|               -1.45|\n",
      "|    1| PDX| -5.6923076923076925|\n",
      "|    6| SBA|                -2.5|\n",
      "|    5| LAX|-0.15789473684210525|\n",
      "|   10| DTW|                 2.6|\n",
      "|    6| SIT|                -1.0|\n",
      "|   10| DFW|  18.176470588235293|\n",
      "|    3| FAI|                -2.2|\n",
      "|   10| SEA|                -0.8|\n",
      "|    2| TUS| -0.6666666666666666|\n",
      "|   12| OGG|  25.181818181818183|\n",
      "|    9| DFW|   4.066666666666666|\n",
      "|    5| EWR|               14.25|\n",
      "|    3| RDM|                -6.2|\n",
      "|    8| DCA|                 2.6|\n",
      "|    7| ATL|   4.675675675675675|\n",
      "|    4| JFK| 0.07142857142857142|\n",
      "|   10| SNA| -1.1333333333333333|\n",
      "+-----+----+--------------------+\n",
      "only showing top 20 rows\n",
      "\n"
     ]
    }
   ],
   "execution_count": 49
  },
  {
   "metadata": {
    "ExecuteTime": {
     "end_time": "2025-05-25T12:07:17.467392Z",
     "start_time": "2025-05-25T12:07:17.406274Z"
    }
   },
   "cell_type": "code",
   "source": "airports.show(5)",
   "id": "ce2b475f2298ae59",
   "outputs": [
    {
     "name": "stdout",
     "output_type": "stream",
     "text": [
      "+---+--------------------+----------+-----------+----+---+---+\n",
      "|faa|                name|       lat|        lon| alt| tz|dst|\n",
      "+---+--------------------+----------+-----------+----+---+---+\n",
      "|04G|   Lansdowne Airport|41.1304722|-80.6195833|1044| -5|  A|\n",
      "|06A|Moton Field Munic...|32.4605722|-85.6800278| 264| -5|  A|\n",
      "|06C| Schaumburg Regional|41.9893408|-88.1012428| 801| -6|  A|\n",
      "|06N|     Randall Airport| 41.431912|-74.3915611| 523| -5|  A|\n",
      "|09J|Jekyll Island Air...|31.0744722|-81.4277778|  11| -4|  A|\n",
      "+---+--------------------+----------+-----------+----+---+---+\n",
      "only showing top 5 rows\n",
      "\n"
     ]
    }
   ],
   "execution_count": 50
  },
  {
   "metadata": {
    "ExecuteTime": {
     "end_time": "2025-05-25T12:08:12.751996Z",
     "start_time": "2025-05-25T12:08:12.744909Z"
    }
   },
   "cell_type": "code",
   "source": [
    "# rename the faa column\n",
    "airports = airports.withColumnRenamed('faa', 'dest')"
   ],
   "id": "8c9694aa0e100aaa",
   "outputs": [],
   "execution_count": 51
  },
  {
   "metadata": {
    "ExecuteTime": {
     "end_time": "2025-05-25T12:09:53.168369Z",
     "start_time": "2025-05-25T12:09:52.910490Z"
    }
   },
   "cell_type": "code",
   "source": [
    "# Join the dataframes\n",
    "flights_with_airports = flights.join(airports, on = 'dest', how = 'leftouter')\n",
    "flights_with_airports.show(5)"
   ],
   "id": "b917f73223207817",
   "outputs": [
    {
     "name": "stdout",
     "output_type": "stream",
     "text": [
      "+----+----+-----+---+--------+---------+--------+---------+-------+-------+------+------+--------+--------+----+------+------------------+--------------------+---------+-----------+---+---+---+\n",
      "|dest|year|month|day|dep_time|dep_delay|arr_time|arr_delay|carrier|tailnum|flight|origin|air_time|distance|hour|minute|      duration_hrs|                name|      lat|        lon|alt| tz|dst|\n",
      "+----+----+-----+---+--------+---------+--------+---------+-------+-------+------+------+--------+--------+----+------+------------------+--------------------+---------+-----------+---+---+---+\n",
      "| LAX|2014|   12|  8|     658|     -7.0|     935|       -5|     VX| N846VA|  1780|   SEA|   132.0|   954.0|   6|    58|               2.2|    Los Angeles Intl|33.942536|-118.408075|126| -8|  A|\n",
      "| HNL|2014|    1| 22|    1040|      5.0|    1505|        5|     AS| N559AS|   851|   SEA|   360.0|  2677.0|  10|    40|               6.0|       Honolulu Intl|21.318681|-157.922428| 13|-10|  N|\n",
      "| SFO|2014|    3|  9|    1443|     -2.0|    1652|        2|     VX| N847VA|   755|   SEA|   111.0|   679.0|  14|    43|              1.85|  San Francisco Intl|37.618972|-122.374889| 13| -8|  A|\n",
      "| SJC|2014|    4|  9|    1705|     45.0|    1839|       34|     WN| N360SW|   344|   PDX|    83.0|   569.0|  17|     5|1.3833333333333333|Norman Y Mineta S...|  37.3626|-121.929022| 62| -8|  A|\n",
      "| BUR|2014|    3|  9|     754|     -1.0|    1015|        1|     AS| N612AS|   522|   SEA|   127.0|   937.0|   7|    54|2.1166666666666667|            Bob Hope|34.200667|-118.358667|778| -8|  A|\n",
      "+----+----+-----+---+--------+---------+--------+---------+-------+-------+------+------+--------+--------+----+------+------------------+--------------------+---------+-----------+---+---+---+\n",
      "only showing top 5 rows\n",
      "\n"
     ]
    }
   ],
   "execution_count": 52
  },
  {
   "metadata": {
    "ExecuteTime": {
     "end_time": "2025-05-25T12:11:17.613658Z",
     "start_time": "2025-05-25T12:11:17.449543Z"
    }
   },
   "cell_type": "code",
   "source": [
    "planes = spark.read.csv(\"./data/airports/planes.csv\", header = True)\n",
    "planes.show(5)"
   ],
   "id": "48241925a78eee5c",
   "outputs": [
    {
     "name": "stdout",
     "output_type": "stream",
     "text": [
      "+-------+----+--------------------+----------------+--------+-------+-----+-----+---------+\n",
      "|tailnum|year|                type|    manufacturer|   model|engines|seats|speed|   engine|\n",
      "+-------+----+--------------------+----------------+--------+-------+-----+-----+---------+\n",
      "| N102UW|1998|Fixed wing multi ...|AIRBUS INDUSTRIE|A320-214|      2|  182|   NA|Turbo-fan|\n",
      "| N103US|1999|Fixed wing multi ...|AIRBUS INDUSTRIE|A320-214|      2|  182|   NA|Turbo-fan|\n",
      "| N104UW|1999|Fixed wing multi ...|AIRBUS INDUSTRIE|A320-214|      2|  182|   NA|Turbo-fan|\n",
      "| N105UW|1999|Fixed wing multi ...|AIRBUS INDUSTRIE|A320-214|      2|  182|   NA|Turbo-fan|\n",
      "| N107US|1999|Fixed wing multi ...|AIRBUS INDUSTRIE|A320-214|      2|  182|   NA|Turbo-fan|\n",
      "+-------+----+--------------------+----------------+--------+-------+-----+-----+---------+\n",
      "only showing top 5 rows\n",
      "\n"
     ]
    }
   ],
   "execution_count": 53
  },
  {
   "metadata": {
    "ExecuteTime": {
     "end_time": "2025-05-25T12:13:40.931467Z",
     "start_time": "2025-05-25T12:13:40.925443Z"
    }
   },
   "cell_type": "code",
   "source": [
    "# rename year column on panes to avoid duplicate columns name\n",
    "planes = planes.withColumnRenamed('year', 'plane_year')"
   ],
   "id": "e7b2d033ab2a74be",
   "outputs": [],
   "execution_count": 54
  },
  {
   "metadata": {
    "ExecuteTime": {
     "end_time": "2025-05-25T12:14:51.633368Z",
     "start_time": "2025-05-25T12:14:51.420108Z"
    }
   },
   "cell_type": "code",
   "source": [
    "# join the flight and plane table use key as tailnum column\n",
    "model_data = flights.join(planes, on = 'tailnum', how = 'leftouter')\n",
    "model_data.show(5)"
   ],
   "id": "f4edb998b4fa0fd",
   "outputs": [
    {
     "name": "stdout",
     "output_type": "stream",
     "text": [
      "+-------+----+-----+---+--------+---------+--------+---------+-------+------+------+----+--------+--------+----+------+------------------+----------+--------------------+------------+--------+-------+-----+-----+---------+\n",
      "|tailnum|year|month|day|dep_time|dep_delay|arr_time|arr_delay|carrier|flight|origin|dest|air_time|distance|hour|minute|      duration_hrs|plane_year|                type|manufacturer|   model|engines|seats|speed|   engine|\n",
      "+-------+----+-----+---+--------+---------+--------+---------+-------+------+------+----+--------+--------+----+------+------------------+----------+--------------------+------------+--------+-------+-----+-----+---------+\n",
      "| N846VA|2014|   12|  8|     658|     -7.0|     935|       -5|     VX|  1780|   SEA| LAX|   132.0|   954.0|   6|    58|               2.2|      2011|Fixed wing multi ...|      AIRBUS|A320-214|      2|  182|   NA|Turbo-fan|\n",
      "| N559AS|2014|    1| 22|    1040|      5.0|    1505|        5|     AS|   851|   SEA| HNL|   360.0|  2677.0|  10|    40|               6.0|      2006|Fixed wing multi ...|      BOEING| 737-890|      2|  149|   NA|Turbo-fan|\n",
      "| N847VA|2014|    3|  9|    1443|     -2.0|    1652|        2|     VX|   755|   SEA| SFO|   111.0|   679.0|  14|    43|              1.85|      2011|Fixed wing multi ...|      AIRBUS|A320-214|      2|  182|   NA|Turbo-fan|\n",
      "| N360SW|2014|    4|  9|    1705|     45.0|    1839|       34|     WN|   344|   PDX| SJC|    83.0|   569.0|  17|     5|1.3833333333333333|      1992|Fixed wing multi ...|      BOEING| 737-3H4|      2|  149|   NA|Turbo-fan|\n",
      "| N612AS|2014|    3|  9|     754|     -1.0|    1015|        1|     AS|   522|   SEA| BUR|   127.0|   937.0|   7|    54|2.1166666666666667|      1999|Fixed wing multi ...|      BOEING| 737-790|      2|  151|   NA|Turbo-jet|\n",
      "+-------+----+-----+---+--------+---------+--------+---------+-------+------+------+----+--------+--------+----+------+------------------+----------+--------------------+------------+--------+-------+-----+-----+---------+\n",
      "only showing top 5 rows\n",
      "\n"
     ]
    }
   ],
   "execution_count": 55
  },
  {
   "metadata": {
    "ExecuteTime": {
     "end_time": "2025-05-25T12:15:11.697964Z",
     "start_time": "2025-05-25T12:15:10.386957Z"
    }
   },
   "cell_type": "code",
   "source": "model_data.describe().show()",
   "id": "b0499b8541bd49f3",
   "outputs": [
    {
     "name": "stdout",
     "output_type": "stream",
     "text": [
      "+-------+-------+------+------------------+-----------------+------------------+------------------+------------------+------------------+-------+-----------------+------+-----+------------------+-----------------+------------------+-----------------+------------------+-----------------+--------------------+--------------------+-------------+--------------------+------------------+-----------------+-------------+\n",
      "|summary|tailnum|  year|             month|              day|          dep_time|         dep_delay|          arr_time|         arr_delay|carrier|           flight|origin| dest|          air_time|         distance|              hour|           minute|      duration_hrs|       plane_year|                type|        manufacturer|        model|             engines|             seats|            speed|       engine|\n",
      "+-------+-------+------+------------------+-----------------+------------------+------------------+------------------+------------------+-------+-----------------+------+-----+------------------+-----------------+------------------+-----------------+------------------+-----------------+--------------------+--------------------+-------------+--------------------+------------------+-----------------+-------------+\n",
      "|  count|  10000| 10000|             10000|            10000|             10000|              9952|             10000|             10000|  10000|            10000| 10000|10000|              9925|            10000|             10000|            10000|              9925|             9448|                9448|                9448|         9448|                9448|              9448|             9448|         9448|\n",
      "|   mean|   NULL|2014.0|            6.6438|          15.7009|1277.1158561093248| 6.068629421221865|1477.7236802413272|2.2530982367758186|   NULL|        1369.1011|  NULL| NULL|152.88423173803525|        1208.1516|12.465434083601286|30.57244774919614| 2.548070528967267|2001.594398118452|                NULL|                NULL|        150.0|  1.9993649449618967|159.77392040643522|             94.4|         NULL|\n",
      "| stddev|   NULL|   0.0|3.3191600205962097|8.895142019392079| 524.1142951055886|28.808608062751805| 526.5936522261665|31.074918600451877|   NULL|1498.714573831908|  NULL| NULL|  72.8656286392139|656.8599023464376| 5.246262953748826|17.98533264217002|1.2144271439868943|58.92921992728455|                NULL|                NULL|         NULL|0.032528968076681056| 54.35220392936495|9.838699100999074|         NULL|\n",
      "|    min| D942DN|  2014|                 1|                1|                 1|             -19.0|                 1|                -1|     AA|               10|   PDX|  ABQ|              20.0|             93.0|                 0|                0|0.3333333333333333|                0|Fixed wing multi ...|              AIRBUS|          150|                   1|               100|              112|Reciprocating|\n",
      "|    max|     NA|  2014|                 9|                9|                NA|             886.0|                NA|                NA|     WN|              998|   SEA|  TUS|             409.0|           2724.0|                NA|               NA| 6.816666666666666|               NA|          Rotorcraft|ROBINSON HELICOPT...|ZODIAC 601HDS|                   3|                95|               NA|  Turbo-shaft|\n",
      "+-------+-------+------+------------------+-----------------+------------------+------------------+------------------+------------------+-------+-----------------+------+-----+------------------+-----------------+------------------+-----------------+------------------+-----------------+--------------------+--------------------+-------------+--------------------+------------------+-----------------+-------------+\n",
      "\n"
     ]
    }
   ],
   "execution_count": 57
  },
  {
   "metadata": {
    "ExecuteTime": {
     "end_time": "2025-05-25T12:19:05.289580Z",
     "start_time": "2025-05-25T12:19:05.257557Z"
    }
   },
   "cell_type": "code",
   "source": [
    "model_data = model_data.withColumn('arr_delay', model_data.arr_delay.cast('integer'))\n",
    "model_data = model_data.withColumn('air_time', model_data.air_time.cast('integer'))\n",
    "model_data = model_data.withColumn('month', model_data.month.cast('integer'))\n",
    "model_data = model_data.withColumn('plane_year', model_data.plane_year.cast('integer'))"
   ],
   "id": "2b4a14334e513237",
   "outputs": [],
   "execution_count": 59
  },
  {
   "metadata": {
    "ExecuteTime": {
     "end_time": "2025-05-25T12:19:48.961888Z",
     "start_time": "2025-05-25T12:19:48.625955Z"
    }
   },
   "cell_type": "code",
   "source": "model_data.describe('arr_delay', 'air_time', 'month', 'plane_year').show()",
   "id": "1ad2c5cd90af75e8",
   "outputs": [
    {
     "name": "stdout",
     "output_type": "stream",
     "text": [
      "+-------+------------------+------------------+------------------+-----------------+\n",
      "|summary|         arr_delay|          air_time|             month|       plane_year|\n",
      "+-------+------------------+------------------+------------------+-----------------+\n",
      "|  count|              9925|              9925|             10000|             9354|\n",
      "|   mean|2.2530982367758186|152.88423173803525|            6.6438|2001.594398118452|\n",
      "| stddev|31.074918600451877|  72.8656286392139|3.3191600205962097|58.92921992728455|\n",
      "|    min|               -58|                20|                 1|                0|\n",
      "|    max|               900|               409|                12|             2014|\n",
      "+-------+------------------+------------------+------------------+-----------------+\n",
      "\n"
     ]
    }
   ],
   "execution_count": 60
  },
  {
   "metadata": {
    "ExecuteTime": {
     "end_time": "2025-05-25T12:21:22.312936Z",
     "start_time": "2025-05-25T12:21:22.299812Z"
    }
   },
   "cell_type": "code",
   "source": [
    "# create a new column\n",
    "model_data = model_data.withColumn('plane_age', model_data.year - model_data.plane_year)"
   ],
   "id": "657d80ec214e6522",
   "outputs": [],
   "execution_count": 61
  },
  {
   "metadata": {
    "ExecuteTime": {
     "end_time": "2025-05-25T12:24:09.409284Z",
     "start_time": "2025-05-25T12:24:09.160869Z"
    }
   },
   "cell_type": "code",
   "source": [
    "model_data = model_data.withColumn('is_late', model_data.arr_delay > 50)\n",
    "\n",
    "model_data = model_data.withColumn('label', model_data.is_late.cast('integer'))\n",
    "\n",
    "model_data.filter(\n",
    "    \"arr_delay is not NULL and dep_delay is not NULL and air_time is not NULL and plane_year is not NULL\").show(5)"
   ],
   "id": "d1737c11b9d2d6b9",
   "outputs": [
    {
     "name": "stdout",
     "output_type": "stream",
     "text": [
      "+-------+----+-----+---+--------+---------+--------+---------+-------+------+------+----+--------+--------+----+------+------------------+----------+--------------------+------------+--------+-------+-----+-----+---------+---------+-------+-----+\n",
      "|tailnum|year|month|day|dep_time|dep_delay|arr_time|arr_delay|carrier|flight|origin|dest|air_time|distance|hour|minute|      duration_hrs|plane_year|                type|manufacturer|   model|engines|seats|speed|   engine|plane_age|is_late|label|\n",
      "+-------+----+-----+---+--------+---------+--------+---------+-------+------+------+----+--------+--------+----+------+------------------+----------+--------------------+------------+--------+-------+-----+-----+---------+---------+-------+-----+\n",
      "| N846VA|2014|   12|  8|     658|     -7.0|     935|       -5|     VX|  1780|   SEA| LAX|     132|   954.0|   6|    58|               2.2|      2011|Fixed wing multi ...|      AIRBUS|A320-214|      2|  182|   NA|Turbo-fan|      3.0|  false|    0|\n",
      "| N559AS|2014|    1| 22|    1040|      5.0|    1505|        5|     AS|   851|   SEA| HNL|     360|  2677.0|  10|    40|               6.0|      2006|Fixed wing multi ...|      BOEING| 737-890|      2|  149|   NA|Turbo-fan|      8.0|  false|    0|\n",
      "| N847VA|2014|    3|  9|    1443|     -2.0|    1652|        2|     VX|   755|   SEA| SFO|     111|   679.0|  14|    43|              1.85|      2011|Fixed wing multi ...|      AIRBUS|A320-214|      2|  182|   NA|Turbo-fan|      3.0|  false|    0|\n",
      "| N360SW|2014|    4|  9|    1705|     45.0|    1839|       34|     WN|   344|   PDX| SJC|      83|   569.0|  17|     5|1.3833333333333333|      1992|Fixed wing multi ...|      BOEING| 737-3H4|      2|  149|   NA|Turbo-fan|     22.0|  false|    0|\n",
      "| N612AS|2014|    3|  9|     754|     -1.0|    1015|        1|     AS|   522|   SEA| BUR|     127|   937.0|   7|    54|2.1166666666666667|      1999|Fixed wing multi ...|      BOEING| 737-790|      2|  151|   NA|Turbo-jet|     15.0|  false|    0|\n",
      "+-------+----+-----+---+--------+---------+--------+---------+-------+------+------+----+--------+--------+----+------+------------------+----------+--------------------+------------+--------+-------+-----+-----+---------+---------+-------+-----+\n",
      "only showing top 5 rows\n",
      "\n"
     ]
    }
   ],
   "execution_count": 62
  },
  {
   "metadata": {
    "ExecuteTime": {
     "end_time": "2025-05-25T12:43:25.537794Z",
     "start_time": "2025-05-25T12:43:25.528863Z"
    }
   },
   "cell_type": "code",
   "source": [
    "# Create a StringIndexer\n",
    "carr_indexer = StringIndexer(inputCol = 'carrier', outputCol = 'carrier_index')\n",
    "# Create a OneHotEncoder\n",
    "carr_encoder = OneHotEncoder(inputCol = 'carrier_index', outputCol = 'carr_fact')"
   ],
   "id": "77a26f27a8c664ba",
   "outputs": [],
   "execution_count": 78
  },
  {
   "metadata": {
    "ExecuteTime": {
     "end_time": "2025-05-25T12:43:28.519079Z",
     "start_time": "2025-05-25T12:43:28.510089Z"
    }
   },
   "cell_type": "code",
   "source": [
    "# encode the dest column just like you did above\n",
    "dest_indexer = StringIndexer(inputCol = 'dest', outputCol = 'dest_index')\n",
    "dest_encoder = OneHotEncoder(inputCol = 'dest_index', outputCol = 'dest_fact')"
   ],
   "id": "c44f3c95e2d60c5",
   "outputs": [],
   "execution_count": 79
  },
  {
   "metadata": {
    "ExecuteTime": {
     "end_time": "2025-05-25T12:43:30.040702Z",
     "start_time": "2025-05-25T12:43:30.033275Z"
    }
   },
   "cell_type": "code",
   "source": [
    "# Assemble a Vector\n",
    "vec_assembler = VectorAssembler(inputCols = ['month', 'air_time', 'carr_fact', 'dest_fact', 'plane_age'],\n",
    "                                outputCol = 'features', handleInvalid = 'skip')"
   ],
   "id": "ee9190887b5a3bcf",
   "outputs": [],
   "execution_count": 80
  },
  {
   "metadata": {
    "ExecuteTime": {
     "end_time": "2025-05-25T12:43:38.407545Z",
     "start_time": "2025-05-25T12:43:38.404411Z"
    }
   },
   "cell_type": "code",
   "source": [
    "# create the pipeline\n",
    "# you're finally ready to create a pipeline is class in the 'pyspark.ml module' that combines all the Estimators and Transformers that you've already created\n",
    "\n",
    "flights_pipe = Pipeline(stages = [dest_indexer, dest_encoder, carr_indexer, carr_encoder, vec_assembler])"
   ],
   "id": "861d24727f550403",
   "outputs": [],
   "execution_count": 83
  },
  {
   "metadata": {
    "ExecuteTime": {
     "end_time": "2025-05-25T12:43:40.213953Z",
     "start_time": "2025-05-25T12:43:39.746846Z"
    }
   },
   "cell_type": "code",
   "source": "piped_data = flights_pipe.fit(model_data).transform(model_data)",
   "id": "a3ec322b8cad4edd",
   "outputs": [],
   "execution_count": 84
  },
  {
   "metadata": {
    "ExecuteTime": {
     "end_time": "2025-05-25T12:43:53.539021Z",
     "start_time": "2025-05-25T12:43:53.235724Z"
    }
   },
   "cell_type": "code",
   "source": "piped_data.show(5)",
   "id": "d9cb4fce5042bbfa",
   "outputs": [
    {
     "name": "stdout",
     "output_type": "stream",
     "text": [
      "+-------+----+-----+---+--------+---------+--------+---------+-------+------+------+----+--------+--------+----+------+------------------+----------+--------------------+------------+--------+-------+-----+-----+---------+---------+-------+-----+----------+---------------+-------------+--------------+--------------------+\n",
      "|tailnum|year|month|day|dep_time|dep_delay|arr_time|arr_delay|carrier|flight|origin|dest|air_time|distance|hour|minute|      duration_hrs|plane_year|                type|manufacturer|   model|engines|seats|speed|   engine|plane_age|is_late|label|dest_index|      dest_fact|carrier_index|     carr_fact|            features|\n",
      "+-------+----+-----+---+--------+---------+--------+---------+-------+------+------+----+--------+--------+----+------+------------------+----------+--------------------+------------+--------+-------+-----+-----+---------+---------+-------+-----+----------+---------------+-------------+--------------+--------------------+\n",
      "| N846VA|2014|   12|  8|     658|     -7.0|     935|       -5|     VX|  1780|   SEA| LAX|     132|   954.0|   6|    58|               2.2|      2011|Fixed wing multi ...|      AIRBUS|A320-214|      2|  182|   NA|Turbo-fan|      3.0|  false|    0|       1.0| (68,[1],[1.0])|          8.0|(10,[8],[1.0])|(81,[0,1,10,13,80...|\n",
      "| N559AS|2014|    1| 22|    1040|      5.0|    1505|        5|     AS|   851|   SEA| HNL|     360|  2677.0|  10|    40|               6.0|      2006|Fixed wing multi ...|      BOEING| 737-890|      2|  149|   NA|Turbo-fan|      8.0|  false|    0|      22.0|(68,[22],[1.0])|          0.0|(10,[0],[1.0])|(81,[0,1,2,34,80]...|\n",
      "| N847VA|2014|    3|  9|    1443|     -2.0|    1652|        2|     VX|   755|   SEA| SFO|     111|   679.0|  14|    43|              1.85|      2011|Fixed wing multi ...|      AIRBUS|A320-214|      2|  182|   NA|Turbo-fan|      3.0|  false|    0|       0.0| (68,[0],[1.0])|          8.0|(10,[8],[1.0])|(81,[0,1,10,12,80...|\n",
      "| N360SW|2014|    4|  9|    1705|     45.0|    1839|       34|     WN|   344|   PDX| SJC|      83|   569.0|  17|     5|1.3833333333333333|      1992|Fixed wing multi ...|      BOEING| 737-3H4|      2|  149|   NA|Turbo-fan|     22.0|  false|    0|       9.0| (68,[9],[1.0])|          1.0|(10,[1],[1.0])|(81,[0,1,3,21,80]...|\n",
      "| N612AS|2014|    3|  9|     754|     -1.0|    1015|        1|     AS|   522|   SEA| BUR|     127|   937.0|   7|    54|2.1166666666666667|      1999|Fixed wing multi ...|      BOEING| 737-790|      2|  151|   NA|Turbo-jet|     15.0|  false|    0|      23.0|(68,[23],[1.0])|          0.0|(10,[0],[1.0])|(81,[0,1,2,35,80]...|\n",
      "+-------+----+-----+---+--------+---------+--------+---------+-------+------+------+----+--------+--------+----+------+------------------+----------+--------------------+------------+--------+-------+-----+-----+---------+---------+-------+-----+----------+---------------+-------------+--------------+--------------------+\n",
      "only showing top 5 rows\n",
      "\n"
     ]
    }
   ],
   "execution_count": 85
  },
  {
   "metadata": {
    "ExecuteTime": {
     "end_time": "2025-05-25T12:44:38.888513Z",
     "start_time": "2025-05-25T12:44:38.868747Z"
    }
   },
   "cell_type": "code",
   "source": "training, test = piped_data.randomSplit([0.6, 0.4])",
   "id": "711d56707e611634",
   "outputs": [],
   "execution_count": 86
  },
  {
   "metadata": {
    "ExecuteTime": {
     "end_time": "2025-05-25T12:44:45.560985Z",
     "start_time": "2025-05-25T12:44:45.517845Z"
    }
   },
   "cell_type": "code",
   "source": "lr = LogisticRegression()",
   "id": "7202c01bd503f4b0",
   "outputs": [],
   "execution_count": 87
  },
  {
   "metadata": {
    "ExecuteTime": {
     "end_time": "2025-05-25T13:42:31.191895Z",
     "start_time": "2025-05-25T13:42:31.180888Z"
    }
   },
   "cell_type": "code",
   "source": [
    "# Create the evaluator\n",
    "# The first thing you need when doing validation for model selection is a way to compare different models. Luckily, the pyspark.ml.evaluation submodule has classes for evaluating different kinds of model. Your model is a binary classification model, so you'll be using the 'BinaryClassificationEvaluator' from the 'pyspark.ml.evaluation' module. This evaluator calculates the area under the ROC. This is a metric that combines the two kinds of errors a binary classifier can make (false positives and false negatives) into a simple numbers.\n",
    "\n",
    "evaluator = evals.BinaryClassificationEvaluator(metricName = 'areaUnderROC')"
   ],
   "id": "eac876e34e43bdf7",
   "outputs": [],
   "execution_count": 89
  },
  {
   "metadata": {
    "ExecuteTime": {
     "end_time": "2025-05-25T13:45:20.551608Z",
     "start_time": "2025-05-25T13:45:20.545710Z"
    }
   },
   "cell_type": "code",
   "source": [
    "# Create the parameter grid\n",
    "grid = tune.ParamGridBuilder()\n",
    "\n",
    "# Add the hyperparameter\n",
    "grid = grid.addGrid(lr.regParam, np.arange(0, .1, .01))\n",
    "grid = grid.addGrid(lr.elasticNetParam, [0, 1])\n",
    "\n",
    "# Build the grid\n",
    "grid = grid.build()"
   ],
   "id": "a03cbff79b366206",
   "outputs": [],
   "execution_count": 90
  },
  {
   "metadata": {
    "ExecuteTime": {
     "end_time": "2025-05-25T13:46:24.480910Z",
     "start_time": "2025-05-25T13:46:24.475043Z"
    }
   },
   "cell_type": "code",
   "source": [
    "# Create the CrossValidator\n",
    "cv = tune.CrossValidator(estimator = lr, estimatorParamMaps = grid, evaluator = evaluator)"
   ],
   "id": "ac4697eca6edcd18",
   "outputs": [],
   "execution_count": 91
  },
  {
   "metadata": {
    "ExecuteTime": {
     "end_time": "2025-05-25T13:47:26.180878Z",
     "start_time": "2025-05-25T13:46:45.266077Z"
    }
   },
   "cell_type": "code",
   "source": [
    "# fit cross validation models\n",
    "models = cv.fit(training)"
   ],
   "id": "db3ffed6f86fbd03",
   "outputs": [],
   "execution_count": 92
  },
  {
   "metadata": {
    "ExecuteTime": {
     "end_time": "2025-05-25T13:48:00.759439Z",
     "start_time": "2025-05-25T13:48:00.746752Z"
    }
   },
   "cell_type": "code",
   "source": [
    "# extract the best model\n",
    "best_lr = models.bestModel"
   ],
   "id": "2a2928d230c66d3",
   "outputs": [],
   "execution_count": 93
  },
  {
   "metadata": {
    "ExecuteTime": {
     "end_time": "2025-05-25T13:49:08.059632Z",
     "start_time": "2025-05-25T13:49:07.525353Z"
    }
   },
   "cell_type": "code",
   "source": [
    "# use the model to predict the test set\n",
    "test_results = best_lr.transform(test)\n",
    "\n",
    "# evaluate the predicts\n",
    "print(evaluator.evaluate(test_results))"
   ],
   "id": "60f54b368e4b086d",
   "outputs": [
    {
     "name": "stdout",
     "output_type": "stream",
     "text": [
      "0.6382809871234071\n"
     ]
    }
   ],
   "execution_count": 94
  },
  {
   "metadata": {},
   "cell_type": "code",
   "outputs": [],
   "execution_count": null,
   "source": "",
   "id": "4c0d89a1fa403517"
  }
 ],
 "metadata": {
  "kernelspec": {
   "display_name": "Python 3",
   "language": "python",
   "name": "python3"
  },
  "language_info": {
   "codemirror_mode": {
    "name": "ipython",
    "version": 2
   },
   "file_extension": ".py",
   "mimetype": "text/x-python",
   "name": "python",
   "nbconvert_exporter": "python",
   "pygments_lexer": "ipython2",
   "version": "2.7.6"
  }
 },
 "nbformat": 4,
 "nbformat_minor": 5
}
