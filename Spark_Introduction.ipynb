{
 "cells": [
  {
   "metadata": {
    "ExecuteTime": {
     "end_time": "2025-05-22T02:42:34.718090Z",
     "start_time": "2025-05-22T02:42:24.817526Z"
    }
   },
   "cell_type": "code",
   "source": "!pip install pyspark pandas",
   "id": "1b4e0ffb12de3e26",
   "outputs": [
    {
     "name": "stdout",
     "output_type": "stream",
     "text": [
      "Collecting pyspark\n",
      "  Using cached pyspark-3.5.5-py2.py3-none-any.whl\n",
      "Collecting py4j==0.10.9.7 (from pyspark)\n",
      "  Using cached py4j-0.10.9.7-py2.py3-none-any.whl.metadata (1.5 kB)\n",
      "Using cached py4j-0.10.9.7-py2.py3-none-any.whl (200 kB)\n",
      "Installing collected packages: py4j, pyspark\n",
      "Successfully installed py4j-0.10.9.7 pyspark-3.5.5\n"
     ]
    },
    {
     "name": "stderr",
     "output_type": "stream",
     "text": [
      "\n",
      "[notice] A new release of pip is available: 24.0 -> 25.1.1\n",
      "[notice] To update, run: python.exe -m pip install --upgrade pip\n"
     ]
    }
   ],
   "execution_count": 1
  },
  {
   "metadata": {
    "ExecuteTime": {
     "end_time": "2025-05-22T02:46:11.251118Z",
     "start_time": "2025-05-22T02:46:11.245499Z"
    }
   },
   "cell_type": "code",
   "source": [
    "import pyspark\n",
    "import pandas as pd"
   ],
   "id": "b7240d616fcceaa7",
   "outputs": [],
   "execution_count": 4
  },
  {
   "metadata": {
    "ExecuteTime": {
     "end_time": "2025-05-22T02:47:46.169235Z",
     "start_time": "2025-05-22T02:47:46.157273Z"
    }
   },
   "cell_type": "code",
   "source": "type(pd.read_csv('./Pyspark-With-Python/test1.csv'))",
   "id": "69bf163887795fbc",
   "outputs": [
    {
     "data": {
      "text/plain": [
       "pandas.core.frame.DataFrame"
      ]
     },
     "execution_count": 7,
     "metadata": {},
     "output_type": "execute_result"
    }
   ],
   "execution_count": 7
  },
  {
   "cell_type": "code",
   "id": "initial_id",
   "metadata": {
    "collapsed": true,
    "ExecuteTime": {
     "end_time": "2025-05-22T02:48:27.850584Z",
     "start_time": "2025-05-22T02:48:16.181152Z"
    }
   },
   "source": [
    "from pyspark.sql import SparkSession\n",
    "\n",
    "spark = SparkSession.builder.appName('Practise').getOrCreate()"
   ],
   "outputs": [],
   "execution_count": 8
  },
  {
   "metadata": {
    "ExecuteTime": {
     "end_time": "2025-05-22T02:48:43.515112Z",
     "start_time": "2025-05-22T02:48:42.772561Z"
    }
   },
   "cell_type": "code",
   "source": "spark",
   "id": "3d1e506d0a22c804",
   "outputs": [
    {
     "data": {
      "text/plain": [
       "<pyspark.sql.session.SparkSession at 0x1f7eed88e90>"
      ],
      "text/html": [
       "\n",
       "            <div>\n",
       "                <p><b>SparkSession - in-memory</b></p>\n",
       "                \n",
       "        <div>\n",
       "            <p><b>SparkContext</b></p>\n",
       "\n",
       "            <p><a href=\"http://DESKTOP-PKBG0MG:4040\">Spark UI</a></p>\n",
       "\n",
       "            <dl>\n",
       "              <dt>Version</dt>\n",
       "                <dd><code>v3.5.1</code></dd>\n",
       "              <dt>Master</dt>\n",
       "                <dd><code>local[*]</code></dd>\n",
       "              <dt>AppName</dt>\n",
       "                <dd><code>Practise</code></dd>\n",
       "            </dl>\n",
       "        </div>\n",
       "        \n",
       "            </div>\n",
       "        "
      ]
     },
     "execution_count": 9,
     "metadata": {},
     "output_type": "execute_result"
    }
   ],
   "execution_count": 9
  },
  {
   "metadata": {
    "ExecuteTime": {
     "end_time": "2025-05-22T02:50:42.980754Z",
     "start_time": "2025-05-22T02:50:40.143579Z"
    }
   },
   "cell_type": "code",
   "source": "df_pyspark = spark.read.csv('./Pyspark-With-Python/test1.csv')",
   "id": "ad49ecfcfda6d164",
   "outputs": [],
   "execution_count": 10
  },
  {
   "metadata": {
    "ExecuteTime": {
     "end_time": "2025-05-22T02:52:04.982512Z",
     "start_time": "2025-05-22T02:52:04.797458Z"
    }
   },
   "cell_type": "code",
   "source": "df_pyspark = spark.read.option('header', 'true').csv('./Pyspark-With-Python/test1.csv')",
   "id": "92d5fce0ef4b7429",
   "outputs": [],
   "execution_count": 11
  },
  {
   "metadata": {
    "ExecuteTime": {
     "end_time": "2025-05-22T02:52:23.402963Z",
     "start_time": "2025-05-22T02:52:23.397227Z"
    }
   },
   "cell_type": "code",
   "source": "type(df_pyspark)",
   "id": "efa94b1ce75be4f6",
   "outputs": [
    {
     "data": {
      "text/plain": [
       "pyspark.sql.dataframe.DataFrame"
      ]
     },
     "execution_count": 12,
     "metadata": {},
     "output_type": "execute_result"
    }
   ],
   "execution_count": 12
  },
  {
   "metadata": {
    "ExecuteTime": {
     "end_time": "2025-05-22T02:52:39.487870Z",
     "start_time": "2025-05-22T02:52:39.481588Z"
    }
   },
   "cell_type": "code",
   "source": "df_pyspark.printSchema()",
   "id": "19c6ad3073bb7a85",
   "outputs": [
    {
     "name": "stdout",
     "output_type": "stream",
     "text": [
      "root\n",
      " |-- Name: string (nullable = true)\n",
      " |-- age: string (nullable = true)\n",
      " |-- Experience: string (nullable = true)\n",
      " |-- Salary: string (nullable = true)\n",
      "\n"
     ]
    }
   ],
   "execution_count": 13
  },
  {
   "metadata": {},
   "cell_type": "code",
   "outputs": [],
   "execution_count": null,
   "source": "spark = SparkSession.builder.master('local[*]').appName(\"SparkExample\").getOrCreate()",
   "id": "9a87ef1cdabc8bf3"
  },
  {
   "metadata": {
    "ExecuteTime": {
     "end_time": "2025-05-20T05:01:47.854153Z",
     "start_time": "2025-05-20T05:01:47.611897Z"
    }
   },
   "cell_type": "code",
   "source": "rdd = spark.sparkContext.parallelize([1, 2, 3, 4, 5])",
   "id": "7dcf5784ea7f1c7a",
   "outputs": [],
   "execution_count": 2
  },
  {
   "metadata": {
    "ExecuteTime": {
     "end_time": "2025-05-20T05:02:03.556872Z",
     "start_time": "2025-05-20T05:01:55.182885Z"
    }
   },
   "cell_type": "code",
   "source": "rdd.count()",
   "id": "e4b4d8f6270a9f95",
   "outputs": [
    {
     "data": {
      "text/plain": [
       "5"
      ]
     },
     "execution_count": 3,
     "metadata": {},
     "output_type": "execute_result"
    }
   ],
   "execution_count": 3
  },
  {
   "metadata": {},
   "cell_type": "code",
   "outputs": [],
   "execution_count": null,
   "source": "",
   "id": "31bd8d71c146ffed"
  }
 ],
 "metadata": {
  "kernelspec": {
   "display_name": "Python 3",
   "language": "python",
   "name": "python3"
  },
  "language_info": {
   "codemirror_mode": {
    "name": "ipython",
    "version": 2
   },
   "file_extension": ".py",
   "mimetype": "text/x-python",
   "name": "python",
   "nbconvert_exporter": "python",
   "pygments_lexer": "ipython2",
   "version": "2.7.6"
  }
 },
 "nbformat": 4,
 "nbformat_minor": 5
}
