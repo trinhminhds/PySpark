{
 "cells": [
  {
   "metadata": {},
   "cell_type": "markdown",
   "source": "# Uber-Data-Analysis-Project-in-Pyspark",
   "id": "554e6a073f4f4ce2"
  },
  {
   "cell_type": "code",
   "id": "initial_id",
   "metadata": {
    "collapsed": true,
    "ExecuteTime": {
     "end_time": "2025-05-29T03:01:38.740909Z",
     "start_time": "2025-05-29T03:01:38.736667Z"
    }
   },
   "source": [
    "from pyspark.sql import SparkSession\n",
    "from pyspark.sql.functions import *\n",
    "from pyspark.sql.functions import max, window, avg, hour, sum, dayofweek, col, countDistinct, mean\n",
    "from pyspark.sql.window import Window"
   ],
   "outputs": [],
   "execution_count": 38
  },
  {
   "metadata": {
    "ExecuteTime": {
     "end_time": "2025-05-29T02:17:41.398241Z",
     "start_time": "2025-05-29T02:17:21.066279Z"
    }
   },
   "cell_type": "code",
   "source": [
    "# create a sparksession\n",
    "spark = SparkSession.builder.appName(\"UberDataAnalysis\").getOrCreate()\n",
    "\n",
    "# Load the dataset into a dataframe\n",
    "df = spark.read.csv('./data/uber.csv', header = True, inferSchema = True)"
   ],
   "id": "2e63d56331431f83",
   "outputs": [],
   "execution_count": 2
  },
  {
   "metadata": {
    "ExecuteTime": {
     "end_time": "2025-05-29T02:17:42.298631Z",
     "start_time": "2025-05-29T02:17:42.011032Z"
    }
   },
   "cell_type": "code",
   "source": "df.show(5)",
   "id": "379e28acc07fd647",
   "outputs": [
    {
     "name": "stdout",
     "output_type": "stream",
     "text": [
      "+---------+------------+---------+-------+----------------+---------+--------------+\n",
      "|     Date|Time (Local)|Eyeballs |Zeroes |Completed Trips |Requests |Unique Drivers|\n",
      "+---------+------------+---------+-------+----------------+---------+--------------+\n",
      "|10-Sep-12|           7|        5|      0|               2|        2|             9|\n",
      "|     NULL|           8|        6|      0|               2|        2|            14|\n",
      "|     NULL|           9|        8|      3|               0|        0|            14|\n",
      "|     NULL|          10|        9|      2|               0|        1|            14|\n",
      "|     NULL|          11|       11|      1|               4|        4|            11|\n",
      "+---------+------------+---------+-------+----------------+---------+--------------+\n",
      "only showing top 5 rows\n",
      "\n"
     ]
    }
   ],
   "execution_count": 3
  },
  {
   "metadata": {
    "ExecuteTime": {
     "end_time": "2025-05-29T02:17:42.817216Z",
     "start_time": "2025-05-29T02:17:42.812201Z"
    }
   },
   "cell_type": "code",
   "source": "print(df)",
   "id": "cb823703b41cab87",
   "outputs": [
    {
     "name": "stdout",
     "output_type": "stream",
     "text": [
      "DataFrame[Date: string, Time (Local): int, Eyeballs : int, Zeroes : int, Completed Trips : int, Requests : int, Unique Drivers: int]\n"
     ]
    }
   ],
   "execution_count": 4
  },
  {
   "metadata": {
    "ExecuteTime": {
     "end_time": "2025-05-29T02:17:44.283470Z",
     "start_time": "2025-05-29T02:17:42.887459Z"
    }
   },
   "cell_type": "code",
   "source": [
    "# Group the data and sum the completed trips\n",
    "complete_trips_by_date = df.groupBy(\"Date\").sum(\"Completed Trips \")\n",
    "complete_trips_by_date.show()"
   ],
   "id": "e23a8bb5662fbfd9",
   "outputs": [
    {
     "name": "stdout",
     "output_type": "stream",
     "text": [
      "+---------+---------------------+\n",
      "|     Date|sum(Completed Trips )|\n",
      "+---------+---------------------+\n",
      "|11-Sep-12|                    1|\n",
      "|13-Sep-12|                    0|\n",
      "|17-Sep-12|                    0|\n",
      "|18-Sep-12|                    3|\n",
      "|21-Sep-12|                   10|\n",
      "|     NULL|                 1261|\n",
      "|15-Sep-12|                   23|\n",
      "|12-Sep-12|                    0|\n",
      "|19-Sep-12|                    0|\n",
      "|14-Sep-12|                    3|\n",
      "|16-Sep-12|                   17|\n",
      "|23-Sep-12|                   23|\n",
      "|24-Sep-12|                    1|\n",
      "|22-Sep-12|                   19|\n",
      "|20-Sep-12|                    2|\n",
      "|10-Sep-12|                    2|\n",
      "+---------+---------------------+\n",
      "\n"
     ]
    }
   ],
   "execution_count": 5
  },
  {
   "metadata": {
    "ExecuteTime": {
     "end_time": "2025-05-29T02:17:44.860025Z",
     "start_time": "2025-05-29T02:17:44.446039Z"
    }
   },
   "cell_type": "code",
   "source": [
    "# Find the date with the most completed trips\n",
    "date_with_completed_trips = \\\n",
    "    complete_trips_by_date.orderBy(\"sum(Completed Trips )\", ascending = True).select(\"Date\").first()['Date']\n",
    "\n",
    "print(date_with_completed_trips)"
   ],
   "id": "c567e4bec97a7468",
   "outputs": [
    {
     "name": "stdout",
     "output_type": "stream",
     "text": [
      "13-Sep-12\n"
     ]
    }
   ],
   "execution_count": 6
  },
  {
   "metadata": {
    "ExecuteTime": {
     "end_time": "2025-05-29T02:17:45.586308Z",
     "start_time": "2025-05-29T02:17:44.932070Z"
    }
   },
   "cell_type": "code",
   "source": [
    "# group the data by 24 hour windows and sum the completed trips\n",
    "df = df.withColumn(\"Time (Local)\", from_unixtime(col(\"Time (Local)\")))\n",
    "\n",
    "complete_trips_by_windows = df.groupBy(window(\"Time (Local)\", \"24 hours\")).agg(\n",
    "    sum(\"Completed Trips \").alias(\"Total Completed Trips\")).orderBy(\"Total Completed Trips\", ascending = False)\n",
    "\n",
    "complete_trips_by_windows.show()"
   ],
   "id": "dd3ebcf6455b05ec",
   "outputs": [
    {
     "name": "stdout",
     "output_type": "stream",
     "text": [
      "+--------------------+---------------------+\n",
      "|              window|Total Completed Trips|\n",
      "+--------------------+---------------------+\n",
      "|{1970-01-01 08:00...|                 1365|\n",
      "+--------------------+---------------------+\n",
      "\n"
     ]
    }
   ],
   "execution_count": 7
  },
  {
   "metadata": {
    "ExecuteTime": {
     "end_time": "2025-05-29T02:17:45.964595Z",
     "start_time": "2025-05-29T02:17:45.672846Z"
    }
   },
   "cell_type": "code",
   "source": [
    "# Get the highest number of completed trips within a 24-hour period\n",
    "highest_completed_trips_in_24_hours = complete_trips_by_windows.select(\"Total Completed Trips\").first()[\n",
    "    'Total Completed Trips']\n",
    "\n",
    "print(highest_completed_trips_in_24_hours)"
   ],
   "id": "44114855ab1228ea",
   "outputs": [
    {
     "name": "stdout",
     "output_type": "stream",
     "text": [
      "1365\n"
     ]
    }
   ],
   "execution_count": 8
  },
  {
   "metadata": {
    "ExecuteTime": {
     "end_time": "2025-05-29T02:17:46.351074Z",
     "start_time": "2025-05-29T02:17:46.034166Z"
    }
   },
   "cell_type": "code",
   "source": [
    "hourly_requests = df.groupBy(hour(\"Time (Local)\").alias(\"hour\")).agg(sum(\"Requests \").alias(\"total_requests\")).orderBy(\n",
    "    \"total_requests\", ascending = False)\n",
    "\n",
    "hourly_requests.show()"
   ],
   "id": "f898826b0dff4518",
   "outputs": [
    {
     "name": "stdout",
     "output_type": "stream",
     "text": [
      "+----+--------------+\n",
      "|hour|total_requests|\n",
      "+----+--------------+\n",
      "|   8|          1858|\n",
      "+----+--------------+\n",
      "\n"
     ]
    }
   ],
   "execution_count": 9
  },
  {
   "metadata": {
    "ExecuteTime": {
     "end_time": "2025-05-29T02:17:46.632080Z",
     "start_time": "2025-05-29T02:17:46.423249Z"
    }
   },
   "cell_type": "code",
   "source": [
    "most_requested_hour = hourly_requests.select(\"hour\").first()[0]\n",
    "\n",
    "print(\"The hour with the most requests is: \", most_requested_hour)"
   ],
   "id": "7989ba011bedb571",
   "outputs": [
    {
     "name": "stdout",
     "output_type": "stream",
     "text": [
      "The hour with the most requests is:  8\n"
     ]
    }
   ],
   "execution_count": 10
  },
  {
   "metadata": {
    "ExecuteTime": {
     "end_time": "2025-05-29T02:17:46.728758Z",
     "start_time": "2025-05-29T02:17:46.722229Z"
    }
   },
   "cell_type": "code",
   "source": "print(df)",
   "id": "81f12306daef5ef5",
   "outputs": [
    {
     "name": "stdout",
     "output_type": "stream",
     "text": [
      "DataFrame[Date: string, Time (Local): string, Eyeballs : int, Zeroes : int, Completed Trips : int, Requests : int, Unique Drivers: int]\n"
     ]
    }
   ],
   "execution_count": 11
  },
  {
   "metadata": {
    "ExecuteTime": {
     "end_time": "2025-05-29T02:17:46.916602Z",
     "start_time": "2025-05-29T02:17:46.808982Z"
    }
   },
   "cell_type": "code",
   "source": "df.show(5)",
   "id": "3987676b35c6148f",
   "outputs": [
    {
     "name": "stdout",
     "output_type": "stream",
     "text": [
      "+---------+-------------------+---------+-------+----------------+---------+--------------+\n",
      "|     Date|       Time (Local)|Eyeballs |Zeroes |Completed Trips |Requests |Unique Drivers|\n",
      "+---------+-------------------+---------+-------+----------------+---------+--------------+\n",
      "|10-Sep-12|1970-01-01 08:00:07|        5|      0|               2|        2|             9|\n",
      "|     NULL|1970-01-01 08:00:08|        6|      0|               2|        2|            14|\n",
      "|     NULL|1970-01-01 08:00:09|        8|      3|               0|        0|            14|\n",
      "|     NULL|1970-01-01 08:00:10|        9|      2|               0|        1|            14|\n",
      "|     NULL|1970-01-01 08:00:11|       11|      1|               4|        4|            11|\n",
      "+---------+-------------------+---------+-------+----------------+---------+--------------+\n",
      "only showing top 5 rows\n",
      "\n"
     ]
    }
   ],
   "execution_count": 12
  },
  {
   "metadata": {
    "ExecuteTime": {
     "end_time": "2025-05-29T02:17:47.260382Z",
     "start_time": "2025-05-29T02:17:46.986018Z"
    }
   },
   "cell_type": "code",
   "source": [
    "weekend_zeros = weekend_zeros = df.filter((hour(\"Time (Local)\") >= 17) | (hour(\"Time (Local)\") < 3)).filter(\n",
    "    (dayofweek(\"Date\") == 6) | (dayofweek(\"Date\") == 7)).agg(sum(\"Zeroes \").alias(\"weekend_zeros\")).collect()[0][\n",
    "    \"weekend_zeros\"]\n",
    "\n",
    "print(weekend_zeros)"
   ],
   "id": "e5344385a8408ba",
   "outputs": [
    {
     "name": "stdout",
     "output_type": "stream",
     "text": [
      "None\n"
     ]
    }
   ],
   "execution_count": 13
  },
  {
   "metadata": {
    "ExecuteTime": {
     "end_time": "2025-05-29T02:17:47.524288Z",
     "start_time": "2025-05-29T02:17:47.351385Z"
    }
   },
   "cell_type": "code",
   "source": [
    "# Calculate total zeros\n",
    "total_zeros = df.agg(sum(\"Zeroes \").alias(\"total_zeros\")).collect()[0][\"total_zeros\"]\n",
    "\n",
    "print(total_zeros)"
   ],
   "id": "fdf1dcf497297131",
   "outputs": [
    {
     "name": "stdout",
     "output_type": "stream",
     "text": [
      "1429\n"
     ]
    }
   ],
   "execution_count": 14
  },
  {
   "metadata": {
    "ExecuteTime": {
     "end_time": "2025-05-29T02:17:47.598697Z",
     "start_time": "2025-05-29T02:17:47.594448Z"
    }
   },
   "cell_type": "code",
   "source": [
    "weekend_zeros = 0\n",
    "percent_weekend_zeros = weekend_zeros / total_zeros * 100\n",
    "\n",
    "print(\"The percentage of zeros that occurred on weekends is: \", percent_weekend_zeros)"
   ],
   "id": "bdd52fc0517b1b8f",
   "outputs": [
    {
     "name": "stdout",
     "output_type": "stream",
     "text": [
      "The percentage of zeros that occurred on weekends is:  0.0\n"
     ]
    }
   ],
   "execution_count": 15
  },
  {
   "metadata": {
    "ExecuteTime": {
     "end_time": "2025-05-29T02:17:47.670054Z",
     "start_time": "2025-05-29T02:17:47.664649Z"
    }
   },
   "cell_type": "code",
   "source": "print(df)",
   "id": "85c3931b1aaaf69f",
   "outputs": [
    {
     "name": "stdout",
     "output_type": "stream",
     "text": [
      "DataFrame[Date: string, Time (Local): string, Eyeballs : int, Zeroes : int, Completed Trips : int, Requests : int, Unique Drivers: int]\n"
     ]
    }
   ],
   "execution_count": 16
  },
  {
   "metadata": {
    "ExecuteTime": {
     "end_time": "2025-05-29T02:18:33.148193Z",
     "start_time": "2025-05-29T02:18:32.797045Z"
    }
   },
   "cell_type": "code",
   "source": [
    "weighted_avg = df.withColumn(\"completed_per_driver\", df[\"Completed Trips \"] / df[\"Unique Drivers\"]) \\\n",
    "    .groupBy(\"Date\", \"Time (Local)\") \\\n",
    "    .agg(avg(\"completed_per_driver\").alias(\"avg_completed_per_driver\"),\n",
    "         sum(\"Completed Trips \").alias(\"total_completed_trips\")) \\\n",
    "    .withColumn(\"weighted_ratio\", col(\"avg_completed_per_driver\") * col(\"total_completed_trips\")) \\\n",
    "    .agg(sum(\"weighted_ratio\") / sum(\"total_completed_trips\")).collect()[0][0]\n",
    "\n",
    "print(\"The weighted average ratio of completed trips per driver is:\", weighted_avg)"
   ],
   "id": "fde396ef4e06cbf5",
   "outputs": [
    {
     "name": "stdout",
     "output_type": "stream",
     "text": [
      "The weighted average ratio of completed trips per driver is: 0.6008894493857285\n"
     ]
    }
   ],
   "execution_count": 19
  },
  {
   "metadata": {
    "ExecuteTime": {
     "end_time": "2025-05-29T02:23:02.880221Z",
     "start_time": "2025-05-29T02:23:02.527902Z"
    }
   },
   "cell_type": "code",
   "source": [
    "# Calculate the number of unique requests for each hour of the day\n",
    "hourly_unique_requests = (\n",
    "    df.groupBy(hour(\"Time (Local)\").alias(\"hour\")).agg(countDistinct(\"Requests \").alias(\"unique_requests\")))\n",
    "\n",
    "hourly_unique_requests.show()"
   ],
   "id": "a5ea96e4a66896b1",
   "outputs": [
    {
     "name": "stdout",
     "output_type": "stream",
     "text": [
      "+----+---------------+\n",
      "|hour|unique_requests|\n",
      "+----+---------------+\n",
      "|   8|             34|\n",
      "+----+---------------+\n",
      "\n"
     ]
    }
   ],
   "execution_count": 23
  },
  {
   "metadata": {
    "ExecuteTime": {
     "end_time": "2025-05-29T02:36:32.849414Z",
     "start_time": "2025-05-29T02:36:32.841440Z"
    }
   },
   "cell_type": "code",
   "source": [
    "# Side a window of 8 hours to find the busiest 8 consecutive hours\n",
    "window = Window.orderBy(col(\"unique_requests\").desc()).rowsBetween(0, 7)\n",
    "\n",
    "print(window)"
   ],
   "id": "e72703ca22dd24e0",
   "outputs": [
    {
     "name": "stdout",
     "output_type": "stream",
     "text": [
      "<pyspark.sql.window.WindowSpec object at 0x000002210A7A50D0>\n"
     ]
    }
   ],
   "execution_count": 30
  },
  {
   "metadata": {
    "ExecuteTime": {
     "end_time": "2025-05-29T02:36:34.576494Z",
     "start_time": "2025-05-29T02:36:34.215178Z"
    }
   },
   "cell_type": "code",
   "source": [
    "busiest_8_consecutive_hours = (\n",
    "    hourly_unique_requests\n",
    "    .withColumn(\"consecutive_sum\", sum(\"unique_requests\").over(window))\n",
    "    .orderBy(col(\"consecutive_sum\").desc())\n",
    "    .limit(1)\n",
    ")\n",
    "\n",
    "busiest_8_consecutive_hours.show()"
   ],
   "id": "f1bebe893f13cafc",
   "outputs": [
    {
     "name": "stdout",
     "output_type": "stream",
     "text": [
      "+----+---------------+---------------+\n",
      "|hour|unique_requests|consecutive_sum|\n",
      "+----+---------------+---------------+\n",
      "|   8|             34|             34|\n",
      "+----+---------------+---------------+\n",
      "\n"
     ]
    }
   ],
   "execution_count": 31
  },
  {
   "metadata": {
    "ExecuteTime": {
     "end_time": "2025-05-29T02:46:29.973301Z",
     "start_time": "2025-05-29T02:46:29.740480Z"
    }
   },
   "cell_type": "code",
   "source": [
    "# Group the data by 72 hour periods and calculate the radio of zeros to eyeballs for each period\n",
    "period_ratios = (\n",
    "    df.groupBy(((col(\"Date\").cast(\"timestamp\").cast(\"long\") / (72 * 3600)).cast(\"int\")).alias(\"period\")).agg(\n",
    "        sum(\"Zeroes \").alias(\"zeroes\"), sum(\"Eyeballs \").alias(\"eyeballs\")).withColumn(\"radio\",\n",
    "                                                                                       col(\"zeroes\") / col(\"eyeballs\")))\n",
    "\n",
    "period_ratios.show()"
   ],
   "id": "f08fab7afb2ace81",
   "outputs": [
    {
     "name": "stdout",
     "output_type": "stream",
     "text": [
      "+------+------+--------+-------------------+\n",
      "|period|zeroes|eyeballs|              radio|\n",
      "+------+------+--------+-------------------+\n",
      "|  NULL|  1429|    6687|0.21369822042769554|\n",
      "+------+------+--------+-------------------+\n",
      "\n"
     ]
    }
   ],
   "execution_count": 35
  },
  {
   "metadata": {
    "ExecuteTime": {
     "end_time": "2025-05-29T02:52:35.890341Z",
     "start_time": "2025-05-29T02:52:35.738253Z"
    }
   },
   "cell_type": "code",
   "source": [
    "# Find the period with the highest radio\n",
    "highest_raido_period = period_ratios.orderBy(col(\"radio\").desc()).limit(1)\n",
    "\n",
    "highest_raido_period.show()"
   ],
   "id": "2b0c1652056958b0",
   "outputs": [
    {
     "name": "stdout",
     "output_type": "stream",
     "text": [
      "+------+------+--------+-------------------+\n",
      "|period|zeroes|eyeballs|              radio|\n",
      "+------+------+--------+-------------------+\n",
      "|  NULL|  1429|    6687|0.21369822042769554|\n",
      "+------+------+--------+-------------------+\n",
      "\n"
     ]
    }
   ],
   "execution_count": 36
  },
  {
   "metadata": {
    "ExecuteTime": {
     "end_time": "2025-05-29T03:01:09.829800Z",
     "start_time": "2025-05-29T03:01:09.170265Z"
    }
   },
   "cell_type": "code",
   "source": [
    "# Calculate requests per unique driver for each hour\n",
    "requests_per_driver = (\n",
    "    df.groupBy(\"Time (Local)\").agg((sum(\"Requests \") / countDistinct(\"Unique Drivers\")).alias(\"requests_per_driver\")))\n",
    "\n",
    "# show the hour with the highest radio\n",
    "requests_per_driver.orderBy(desc(\"requests_per_driver\")).show(1)"
   ],
   "id": "308a981a2836eb00",
   "outputs": [
    {
     "name": "stdout",
     "output_type": "stream",
     "text": [
      "+-------------------+-------------------+\n",
      "|       Time (Local)|requests_per_driver|\n",
      "+-------------------+-------------------+\n",
      "|1970-01-01 08:00:02|               20.0|\n",
      "+-------------------+-------------------+\n",
      "only showing top 1 row\n",
      "\n"
     ]
    }
   ],
   "execution_count": 37
  },
  {
   "metadata": {
    "ExecuteTime": {
     "end_time": "2025-05-29T03:02:03.485156Z",
     "start_time": "2025-05-29T03:02:03.275350Z"
    }
   },
   "cell_type": "code",
   "source": [
    "# Calculate average completed trips and unique drivers for each hour\n",
    "avg_trips_and_drivers = (df.groupBy('Time (Local)').agg(\n",
    "    mean('Completed Trips ').alias('avg_completed_trips'),\n",
    "    mean('Unique Drivers').alias('avg_unique_drivers')\n",
    "))\n",
    "\n",
    "# Show the hour with the lowest average completed trips and unique drivers\n",
    "avg_trips_and_drivers.orderBy('avg_completed_trips', 'avg_unique_drivers').show(1)"
   ],
   "id": "93cd1e27fdd3acbc",
   "outputs": [
    {
     "name": "stdout",
     "output_type": "stream",
     "text": [
      "+-------------------+-------------------+------------------+\n",
      "|       Time (Local)|avg_completed_trips|avg_unique_drivers|\n",
      "+-------------------+-------------------+------------------+\n",
      "|1970-01-01 08:00:04|0.14285714285714285|0.6428571428571429|\n",
      "+-------------------+-------------------+------------------+\n",
      "only showing top 1 row\n",
      "\n"
     ]
    }
   ],
   "execution_count": 41
  },
  {
   "metadata": {},
   "cell_type": "code",
   "outputs": [],
   "execution_count": null,
   "source": "",
   "id": "4dd8a7b53b1d8902"
  }
 ],
 "metadata": {
  "kernelspec": {
   "display_name": "Python 3",
   "language": "python",
   "name": "python3"
  },
  "language_info": {
   "codemirror_mode": {
    "name": "ipython",
    "version": 2
   },
   "file_extension": ".py",
   "mimetype": "text/x-python",
   "name": "python",
   "nbconvert_exporter": "python",
   "pygments_lexer": "ipython2",
   "version": "2.7.6"
  }
 },
 "nbformat": 4,
 "nbformat_minor": 5
}
