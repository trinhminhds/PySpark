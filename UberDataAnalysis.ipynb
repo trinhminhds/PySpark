{
 "cells": [
  {
   "metadata": {},
   "cell_type": "markdown",
   "source": "# Uber-Data-Analysis-Project-in-Pyspark",
   "id": "554e6a073f4f4ce2"
  },
  {
   "cell_type": "code",
   "id": "initial_id",
   "metadata": {
    "collapsed": true,
    "ExecuteTime": {
     "end_time": "2025-05-27T10:17:32.541097Z",
     "start_time": "2025-05-27T10:17:32.534033Z"
    }
   },
   "source": [
    "from pyspark.sql import SparkSession\n",
    "from pyspark.sql.functions import *\n",
    "from pyspark.sql.functions import max\n",
    "from pyspark.sql.functions import sum, window"
   ],
   "outputs": [],
   "execution_count": 23
  },
  {
   "metadata": {
    "ExecuteTime": {
     "end_time": "2025-05-27T09:42:31.602746Z",
     "start_time": "2025-05-27T09:42:12.506919Z"
    }
   },
   "cell_type": "code",
   "source": [
    "# create a sparksession\n",
    "spark = SparkSession.builder.appName(\"UberDataAnalysis\").getOrCreate()\n",
    "\n",
    "# Load the dataset into a dataframe\n",
    "df = spark.read.csv('./data/uber.csv', header = True, inferSchema = True)"
   ],
   "id": "2e63d56331431f83",
   "outputs": [],
   "execution_count": 3
  },
  {
   "metadata": {
    "ExecuteTime": {
     "end_time": "2025-05-27T09:44:34.696393Z",
     "start_time": "2025-05-27T09:44:34.475672Z"
    }
   },
   "cell_type": "code",
   "source": "df.show(5)",
   "id": "379e28acc07fd647",
   "outputs": [
    {
     "name": "stdout",
     "output_type": "stream",
     "text": [
      "+---------+------------+---------+-------+----------------+---------+--------------+\n",
      "|     Date|Time (Local)|Eyeballs |Zeroes |Completed Trips |Requests |Unique Drivers|\n",
      "+---------+------------+---------+-------+----------------+---------+--------------+\n",
      "|10-Sep-12|           7|        5|      0|               2|        2|             9|\n",
      "|     NULL|           8|        6|      0|               2|        2|            14|\n",
      "|     NULL|           9|        8|      3|               0|        0|            14|\n",
      "|     NULL|          10|        9|      2|               0|        1|            14|\n",
      "|     NULL|          11|       11|      1|               4|        4|            11|\n",
      "+---------+------------+---------+-------+----------------+---------+--------------+\n",
      "only showing top 5 rows\n",
      "\n"
     ]
    }
   ],
   "execution_count": 4
  },
  {
   "metadata": {
    "ExecuteTime": {
     "end_time": "2025-05-27T10:25:33.899414Z",
     "start_time": "2025-05-27T10:25:33.892189Z"
    }
   },
   "cell_type": "code",
   "source": "print(df)",
   "id": "cb823703b41cab87",
   "outputs": [
    {
     "name": "stdout",
     "output_type": "stream",
     "text": [
      "DataFrame[Date: string, Time (Local): int, Eyeballs : int, Zeroes : int, Completed Trips : int, Requests : int, Unique Drivers: int]\n"
     ]
    }
   ],
   "execution_count": 26
  },
  {
   "metadata": {
    "ExecuteTime": {
     "end_time": "2025-05-27T09:48:30.552395Z",
     "start_time": "2025-05-27T09:48:29.834955Z"
    }
   },
   "cell_type": "code",
   "source": [
    "# Group the data and sum the completed trips\n",
    "complete_trips_by_date = df.groupBy(\"Date\").sum(\"Completed Trips \")\n",
    "complete_trips_by_date.show()"
   ],
   "id": "e23a8bb5662fbfd9",
   "outputs": [
    {
     "name": "stdout",
     "output_type": "stream",
     "text": [
      "+---------+---------------------+\n",
      "|     Date|sum(Completed Trips )|\n",
      "+---------+---------------------+\n",
      "|11-Sep-12|                    1|\n",
      "|13-Sep-12|                    0|\n",
      "|17-Sep-12|                    0|\n",
      "|18-Sep-12|                    3|\n",
      "|21-Sep-12|                   10|\n",
      "|     NULL|                 1261|\n",
      "|15-Sep-12|                   23|\n",
      "|12-Sep-12|                    0|\n",
      "|19-Sep-12|                    0|\n",
      "|14-Sep-12|                    3|\n",
      "|16-Sep-12|                   17|\n",
      "|23-Sep-12|                   23|\n",
      "|24-Sep-12|                    1|\n",
      "|22-Sep-12|                   19|\n",
      "|20-Sep-12|                    2|\n",
      "|10-Sep-12|                    2|\n",
      "+---------+---------------------+\n",
      "\n"
     ]
    }
   ],
   "execution_count": 8
  },
  {
   "metadata": {
    "ExecuteTime": {
     "end_time": "2025-05-27T10:10:02.236783Z",
     "start_time": "2025-05-27T10:10:02.073924Z"
    }
   },
   "cell_type": "code",
   "source": [
    "# Find the date with the most completed trips\n",
    "date_with_completed_trips = \\\n",
    "    complete_trips_by_date.orderBy(\"sum(Completed Trips )\", ascending = True).select(\"Date\").first()['Date']\n",
    "\n",
    "print(date_with_completed_trips)"
   ],
   "id": "c567e4bec97a7468",
   "outputs": [
    {
     "name": "stdout",
     "output_type": "stream",
     "text": [
      "13-Sep-12\n"
     ]
    }
   ],
   "execution_count": 22
  },
  {
   "metadata": {
    "ExecuteTime": {
     "end_time": "2025-05-27T10:27:12.536074Z",
     "start_time": "2025-05-27T10:27:12.054081Z"
    }
   },
   "cell_type": "code",
   "source": [
    "# group the data by 24 hour windows and sum the completed trips\n",
    "df = df.withColumn(\"Time (Local)\", from_unixtime(col(\"Time (Local)\")))\n",
    "\n",
    "complete_trips_by_windows = df.groupBy(window(\"Time (Local)\", \"24 hours\")).agg(\n",
    "    sum(\"Completed Trips \").alias(\"Total Completed Trips\")).orderBy(\"Total Completed Trips\", ascending = False)\n",
    "\n",
    "complete_trips_by_windows.show()"
   ],
   "id": "dd3ebcf6455b05ec",
   "outputs": [
    {
     "name": "stdout",
     "output_type": "stream",
     "text": [
      "+--------------------+---------------------+\n",
      "|              window|Total Completed Trips|\n",
      "+--------------------+---------------------+\n",
      "|{1970-01-01 08:00...|                 1365|\n",
      "+--------------------+---------------------+\n",
      "\n"
     ]
    }
   ],
   "execution_count": 28
  },
  {
   "metadata": {
    "ExecuteTime": {
     "end_time": "2025-05-27T10:30:04.398117Z",
     "start_time": "2025-05-27T10:30:04.271191Z"
    }
   },
   "cell_type": "code",
   "source": [
    "# Get the highest number of completed trips within a 24-hour period\n",
    "highest_completed_trips_in_24_hours = complete_trips_by_windows.select(\"Total Completed Trips\").first()[\n",
    "    'Total Completed Trips']\n",
    "\n",
    "print(highest_completed_trips_in_24_hours)"
   ],
   "id": "44114855ab1228ea",
   "outputs": [
    {
     "name": "stdout",
     "output_type": "stream",
     "text": [
      "1365\n"
     ]
    }
   ],
   "execution_count": 30
  },
  {
   "metadata": {},
   "cell_type": "code",
   "outputs": [],
   "execution_count": null,
   "source": "",
   "id": "f898826b0dff4518"
  }
 ],
 "metadata": {
  "kernelspec": {
   "display_name": "Python 3",
   "language": "python",
   "name": "python3"
  },
  "language_info": {
   "codemirror_mode": {
    "name": "ipython",
    "version": 2
   },
   "file_extension": ".py",
   "mimetype": "text/x-python",
   "name": "python",
   "nbconvert_exporter": "python",
   "pygments_lexer": "ipython2",
   "version": "2.7.6"
  }
 },
 "nbformat": 4,
 "nbformat_minor": 5
}
