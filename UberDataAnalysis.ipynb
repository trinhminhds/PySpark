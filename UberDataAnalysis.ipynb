{
 "cells": [
  {
   "metadata": {},
   "cell_type": "markdown",
   "source": "# Uber-Data-Analysis-Project-in-Pyspark",
   "id": "554e6a073f4f4ce2"
  },
  {
   "cell_type": "code",
   "id": "initial_id",
   "metadata": {
    "collapsed": true,
    "ExecuteTime": {
     "end_time": "2025-05-28T10:29:47.246910Z",
     "start_time": "2025-05-28T10:29:47.242663Z"
    }
   },
   "source": [
    "from pyspark.sql import SparkSession\n",
    "from pyspark.sql.functions import *\n",
    "from pyspark.sql.functions import sum, max, window, avg, hour, sum, dayofweek"
   ],
   "outputs": [],
   "execution_count": 53
  },
  {
   "metadata": {
    "ExecuteTime": {
     "end_time": "2025-05-28T09:40:05.152379Z",
     "start_time": "2025-05-28T09:39:48.597472Z"
    }
   },
   "cell_type": "code",
   "source": [
    "# create a sparksession\n",
    "spark = SparkSession.builder.appName(\"UberDataAnalysis\").getOrCreate()\n",
    "\n",
    "# Load the dataset into a dataframe\n",
    "df = spark.read.csv('./data/uber.csv', header = True, inferSchema = True)"
   ],
   "id": "2e63d56331431f83",
   "outputs": [],
   "execution_count": 2
  },
  {
   "metadata": {
    "ExecuteTime": {
     "end_time": "2025-05-28T09:40:05.919884Z",
     "start_time": "2025-05-28T09:40:05.705119Z"
    }
   },
   "cell_type": "code",
   "source": "df.show(5)",
   "id": "379e28acc07fd647",
   "outputs": [
    {
     "name": "stdout",
     "output_type": "stream",
     "text": [
      "+---------+------------+---------+-------+----------------+---------+--------------+\n",
      "|     Date|Time (Local)|Eyeballs |Zeroes |Completed Trips |Requests |Unique Drivers|\n",
      "+---------+------------+---------+-------+----------------+---------+--------------+\n",
      "|10-Sep-12|           7|        5|      0|               2|        2|             9|\n",
      "|     NULL|           8|        6|      0|               2|        2|            14|\n",
      "|     NULL|           9|        8|      3|               0|        0|            14|\n",
      "|     NULL|          10|        9|      2|               0|        1|            14|\n",
      "|     NULL|          11|       11|      1|               4|        4|            11|\n",
      "+---------+------------+---------+-------+----------------+---------+--------------+\n",
      "only showing top 5 rows\n",
      "\n"
     ]
    }
   ],
   "execution_count": 3
  },
  {
   "metadata": {
    "ExecuteTime": {
     "end_time": "2025-05-28T09:40:06.312418Z",
     "start_time": "2025-05-28T09:40:06.308232Z"
    }
   },
   "cell_type": "code",
   "source": "print(df)",
   "id": "cb823703b41cab87",
   "outputs": [
    {
     "name": "stdout",
     "output_type": "stream",
     "text": [
      "DataFrame[Date: string, Time (Local): int, Eyeballs : int, Zeroes : int, Completed Trips : int, Requests : int, Unique Drivers: int]\n"
     ]
    }
   ],
   "execution_count": 4
  },
  {
   "metadata": {
    "ExecuteTime": {
     "end_time": "2025-05-28T09:40:07.069174Z",
     "start_time": "2025-05-28T09:40:06.360324Z"
    }
   },
   "cell_type": "code",
   "source": [
    "# Group the data and sum the completed trips\n",
    "complete_trips_by_date = df.groupBy(\"Date\").sum(\"Completed Trips \")\n",
    "complete_trips_by_date.show()"
   ],
   "id": "e23a8bb5662fbfd9",
   "outputs": [
    {
     "name": "stdout",
     "output_type": "stream",
     "text": [
      "+---------+---------------------+\n",
      "|     Date|sum(Completed Trips )|\n",
      "+---------+---------------------+\n",
      "|11-Sep-12|                    1|\n",
      "|13-Sep-12|                    0|\n",
      "|17-Sep-12|                    0|\n",
      "|18-Sep-12|                    3|\n",
      "|21-Sep-12|                   10|\n",
      "|     NULL|                 1261|\n",
      "|15-Sep-12|                   23|\n",
      "|12-Sep-12|                    0|\n",
      "|19-Sep-12|                    0|\n",
      "|14-Sep-12|                    3|\n",
      "|16-Sep-12|                   17|\n",
      "|23-Sep-12|                   23|\n",
      "|24-Sep-12|                    1|\n",
      "|22-Sep-12|                   19|\n",
      "|20-Sep-12|                    2|\n",
      "|10-Sep-12|                    2|\n",
      "+---------+---------------------+\n",
      "\n"
     ]
    }
   ],
   "execution_count": 5
  },
  {
   "metadata": {
    "ExecuteTime": {
     "end_time": "2025-05-28T09:40:07.497938Z",
     "start_time": "2025-05-28T09:40:07.166849Z"
    }
   },
   "cell_type": "code",
   "source": [
    "# Find the date with the most completed trips\n",
    "date_with_completed_trips = \\\n",
    "    complete_trips_by_date.orderBy(\"sum(Completed Trips )\", ascending = True).select(\"Date\").first()['Date']\n",
    "\n",
    "print(date_with_completed_trips)"
   ],
   "id": "c567e4bec97a7468",
   "outputs": [
    {
     "name": "stdout",
     "output_type": "stream",
     "text": [
      "13-Sep-12\n"
     ]
    }
   ],
   "execution_count": 6
  },
  {
   "metadata": {
    "ExecuteTime": {
     "end_time": "2025-05-28T09:40:08.003669Z",
     "start_time": "2025-05-28T09:40:07.558409Z"
    }
   },
   "cell_type": "code",
   "source": [
    "# group the data by 24 hour windows and sum the completed trips\n",
    "df = df.withColumn(\"Time (Local)\", from_unixtime(col(\"Time (Local)\")))\n",
    "\n",
    "complete_trips_by_windows = df.groupBy(window(\"Time (Local)\", \"24 hours\")).agg(\n",
    "    sum(\"Completed Trips \").alias(\"Total Completed Trips\")).orderBy(\"Total Completed Trips\", ascending = False)\n",
    "\n",
    "complete_trips_by_windows.show()"
   ],
   "id": "dd3ebcf6455b05ec",
   "outputs": [
    {
     "name": "stdout",
     "output_type": "stream",
     "text": [
      "+--------------------+---------------------+\n",
      "|              window|Total Completed Trips|\n",
      "+--------------------+---------------------+\n",
      "|{1970-01-01 08:00...|                 1365|\n",
      "+--------------------+---------------------+\n",
      "\n"
     ]
    }
   ],
   "execution_count": 7
  },
  {
   "metadata": {
    "ExecuteTime": {
     "end_time": "2025-05-28T09:40:08.285656Z",
     "start_time": "2025-05-28T09:40:08.064840Z"
    }
   },
   "cell_type": "code",
   "source": [
    "# Get the highest number of completed trips within a 24-hour period\n",
    "highest_completed_trips_in_24_hours = complete_trips_by_windows.select(\"Total Completed Trips\").first()[\n",
    "    'Total Completed Trips']\n",
    "\n",
    "print(highest_completed_trips_in_24_hours)"
   ],
   "id": "44114855ab1228ea",
   "outputs": [
    {
     "name": "stdout",
     "output_type": "stream",
     "text": [
      "1365\n"
     ]
    }
   ],
   "execution_count": 8
  },
  {
   "metadata": {
    "ExecuteTime": {
     "end_time": "2025-05-28T09:54:29.140227Z",
     "start_time": "2025-05-28T09:54:28.999637Z"
    }
   },
   "cell_type": "code",
   "source": [
    "hourly_requests = df.groupBy(hour(\"Time (Local)\").alias(\"hour\")).agg(sum(\"Requests \").alias(\"total_requests\")).orderBy(\n",
    "    \"total_requests\", ascending = False)\n",
    "\n",
    "hourly_requests.show()"
   ],
   "id": "f898826b0dff4518",
   "outputs": [
    {
     "name": "stdout",
     "output_type": "stream",
     "text": [
      "+----+--------------+\n",
      "|hour|total_requests|\n",
      "+----+--------------+\n",
      "|   8|          1858|\n",
      "+----+--------------+\n",
      "\n"
     ]
    }
   ],
   "execution_count": 14
  },
  {
   "metadata": {
    "ExecuteTime": {
     "end_time": "2025-05-28T09:54:30.870624Z",
     "start_time": "2025-05-28T09:54:30.761617Z"
    }
   },
   "cell_type": "code",
   "source": [
    "most_requested_hour = hourly_requests.select(\"hour\").first()[0]\n",
    "\n",
    "print(\"The hour with the most requests is: \", most_requested_hour)"
   ],
   "id": "7989ba011bedb571",
   "outputs": [
    {
     "name": "stdout",
     "output_type": "stream",
     "text": [
      "The hour with the most requests is:  8\n"
     ]
    }
   ],
   "execution_count": 15
  },
  {
   "metadata": {
    "ExecuteTime": {
     "end_time": "2025-05-28T09:59:46.807986Z",
     "start_time": "2025-05-28T09:59:46.802633Z"
    }
   },
   "cell_type": "code",
   "source": "print(df)",
   "id": "81f12306daef5ef5",
   "outputs": [
    {
     "name": "stdout",
     "output_type": "stream",
     "text": [
      "DataFrame[Date: string, Time (Local): string, Eyeballs : int, Zeroes : int, Completed Trips : int, Requests : int, Unique Drivers: int]\n"
     ]
    }
   ],
   "execution_count": 17
  },
  {
   "metadata": {
    "ExecuteTime": {
     "end_time": "2025-05-28T10:15:50.451627Z",
     "start_time": "2025-05-28T10:15:50.393436Z"
    }
   },
   "cell_type": "code",
   "source": "df.show(5)",
   "id": "3987676b35c6148f",
   "outputs": [
    {
     "name": "stdout",
     "output_type": "stream",
     "text": [
      "+---------+-------------------+---------+-------+----------------+---------+--------------+\n",
      "|     Date|       Time (Local)|Eyeballs |Zeroes |Completed Trips |Requests |Unique Drivers|\n",
      "+---------+-------------------+---------+-------+----------------+---------+--------------+\n",
      "|10-Sep-12|1970-01-01 08:00:07|        5|      0|               2|        2|             9|\n",
      "|     NULL|1970-01-01 08:00:08|        6|      0|               2|        2|            14|\n",
      "|     NULL|1970-01-01 08:00:09|        8|      3|               0|        0|            14|\n",
      "|     NULL|1970-01-01 08:00:10|        9|      2|               0|        1|            14|\n",
      "|     NULL|1970-01-01 08:00:11|       11|      1|               4|        4|            11|\n",
      "+---------+-------------------+---------+-------+----------------+---------+--------------+\n",
      "only showing top 5 rows\n",
      "\n"
     ]
    }
   ],
   "execution_count": 31
  },
  {
   "metadata": {
    "ExecuteTime": {
     "end_time": "2025-05-28T10:20:08.152555Z",
     "start_time": "2025-05-28T10:20:08.056238Z"
    }
   },
   "cell_type": "code",
   "source": [
    "weekend_zeros = weekend_zeros = df.filter((hour(\"Time (Local)\") >= 17) | (hour(\"Time (Local)\") < 3)).filter(\n",
    "    (dayofweek(\"Date\") == 6) | (dayofweek(\"Date\") == 7)).agg(sum(\"Zeroes \").alias(\"weekend_zeros\")).collect()[0][\n",
    "    \"weekend_zeros\"]\n",
    "\n",
    "print(weekend_zeros)"
   ],
   "id": "e5344385a8408ba",
   "outputs": [
    {
     "name": "stdout",
     "output_type": "stream",
     "text": [
      "None\n"
     ]
    }
   ],
   "execution_count": 50
  },
  {
   "metadata": {
    "ExecuteTime": {
     "end_time": "2025-05-28T10:06:45.570507Z",
     "start_time": "2025-05-28T10:06:45.485715Z"
    }
   },
   "cell_type": "code",
   "source": [
    "# Calculate total zeros\n",
    "total_zeros = df.agg(sum(\"Zeroes \").alias(\"total_zeros\")).collect()[0][\"total_zeros\"]\n",
    "\n",
    "print(total_zeros)"
   ],
   "id": "fdf1dcf497297131",
   "outputs": [
    {
     "name": "stdout",
     "output_type": "stream",
     "text": [
      "1429\n"
     ]
    }
   ],
   "execution_count": 29
  },
  {
   "metadata": {
    "ExecuteTime": {
     "end_time": "2025-05-28T10:20:32.421485Z",
     "start_time": "2025-05-28T10:20:32.418246Z"
    }
   },
   "cell_type": "code",
   "source": [
    "weekend_zeros = 0\n",
    "percent_weekend_zeros = weekend_zeros / total_zeros * 100\n",
    "\n",
    "print(\"The percentage of zeros that occurred on weekends is: \", percent_weekend_zeros)"
   ],
   "id": "bdd52fc0517b1b8f",
   "outputs": [
    {
     "name": "stdout",
     "output_type": "stream",
     "text": [
      "The percentage of zeros that occurred on weekends is:  0.0\n"
     ]
    }
   ],
   "execution_count": 52
  },
  {
   "metadata": {},
   "cell_type": "code",
   "outputs": [],
   "execution_count": null,
   "source": "",
   "id": "85c3931b1aaaf69f"
  },
  {
   "metadata": {
    "ExecuteTime": {
     "end_time": "2025-05-28T10:33:37.727041Z",
     "start_time": "2025-05-28T10:33:37.655290Z"
    }
   },
   "cell_type": "code",
   "source": [
    "weighted_avg = df.withColumn(\"completed_per_driver\", df[\"Completed Trips\"] / df[\"Unique Drivers\"]) \\\n",
    "    .groupBy(\"Date\", \"Time (Local)\") \\\n",
    "    .agg(avg(\"completed_per_driver\").alias(\"avg_completed_per_driver\"),\n",
    "         sum(\"Completed Trips\").alias(\"total_completed_trips\")) \\\n",
    "    .withColumn(\"weighted_ratio\", col(\"avg_completed_per_driver\") * col(\"total_completed_trips\")) \\\n",
    "    .agg(sum(\"weighted_ratio\") / sum(\"total_completed_trips\")).collect()[0][0]\n",
    "\n",
    "print(\"The weighted average ratio of completed trips per driver is:\", weighted_avg)"
   ],
   "id": "fde396ef4e06cbf5",
   "outputs": [
    {
     "ename": "AnalysisException",
     "evalue": "[UNRESOLVED_COLUMN.WITH_SUGGESTION] A column or function parameter with name `Completed Trips` cannot be resolved. Did you mean one of the following? [`Date`, `Time (Local)`, `Eyeballs `, `Zeroes `, `Completed Trips `, `Requests `, `Unique Drivers`].",
     "output_type": "error",
     "traceback": [
      "\u001B[31m---------------------------------------------------------------------------\u001B[39m",
      "\u001B[31mAnalysisException\u001B[39m                         Traceback (most recent call last)",
      "\u001B[36mCell\u001B[39m\u001B[36m \u001B[39m\u001B[32mIn[54]\u001B[39m\u001B[32m, line 1\u001B[39m\n\u001B[32m----> \u001B[39m\u001B[32m1\u001B[39m weighted_avg = df.withColumn(\u001B[33m\"\u001B[39m\u001B[33mcompleted_per_driver\u001B[39m\u001B[33m\"\u001B[39m, \u001B[43mdf\u001B[49m\u001B[43m[\u001B[49m\u001B[33;43m\"\u001B[39;49m\u001B[33;43mCompleted Trips\u001B[39;49m\u001B[33;43m\"\u001B[39;49m\u001B[43m]\u001B[49m / df[\u001B[33m\"\u001B[39m\u001B[33mUnique Drivers\u001B[39m\u001B[33m\"\u001B[39m]) \\\n\u001B[32m      2\u001B[39m                  .groupBy(\u001B[33m\"\u001B[39m\u001B[33mDate\u001B[39m\u001B[33m\"\u001B[39m, \u001B[33m\"\u001B[39m\u001B[33mTime (Local)\u001B[39m\u001B[33m\"\u001B[39m) \\\n\u001B[32m      3\u001B[39m                  .agg(avg(\u001B[33m\"\u001B[39m\u001B[33mcompleted_per_driver\u001B[39m\u001B[33m\"\u001B[39m).alias(\u001B[33m\"\u001B[39m\u001B[33mavg_completed_per_driver\u001B[39m\u001B[33m\"\u001B[39m), \u001B[38;5;28msum\u001B[39m(\u001B[33m\"\u001B[39m\u001B[33mCompleted Trips\u001B[39m\u001B[33m\"\u001B[39m).alias(\u001B[33m\"\u001B[39m\u001B[33mtotal_completed_trips\u001B[39m\u001B[33m\"\u001B[39m)) \\\n\u001B[32m      4\u001B[39m                  .withColumn(\u001B[33m\"\u001B[39m\u001B[33mweighted_ratio\u001B[39m\u001B[33m\"\u001B[39m, col(\u001B[33m\"\u001B[39m\u001B[33mavg_completed_per_driver\u001B[39m\u001B[33m\"\u001B[39m) * col(\u001B[33m\"\u001B[39m\u001B[33mtotal_completed_trips\u001B[39m\u001B[33m\"\u001B[39m)) \\\n\u001B[32m      5\u001B[39m                  .agg(\u001B[38;5;28msum\u001B[39m(\u001B[33m\"\u001B[39m\u001B[33mweighted_ratio\u001B[39m\u001B[33m\"\u001B[39m) / \u001B[38;5;28msum\u001B[39m(\u001B[33m\"\u001B[39m\u001B[33mtotal_completed_trips\u001B[39m\u001B[33m\"\u001B[39m)).collect()[\u001B[32m0\u001B[39m][\u001B[32m0\u001B[39m]\n\u001B[32m      7\u001B[39m \u001B[38;5;28mprint\u001B[39m(\u001B[33m\"\u001B[39m\u001B[33mThe weighted average ratio of completed trips per driver is:\u001B[39m\u001B[33m\"\u001B[39m, weighted_avg)\n",
      "\u001B[36mFile \u001B[39m\u001B[32mD:\\Data_Engineer\\Spark_PySpark\\.venv\\Lib\\site-packages\\pyspark\\sql\\dataframe.py:3080\u001B[39m, in \u001B[36mDataFrame.__getitem__\u001B[39m\u001B[34m(self, item)\u001B[39m\n\u001B[32m   3008\u001B[39m \u001B[38;5;250m\u001B[39m\u001B[33;03m\"\"\"Returns the column as a :class:`Column`.\u001B[39;00m\n\u001B[32m   3009\u001B[39m \n\u001B[32m   3010\u001B[39m \u001B[33;03m.. versionadded:: 1.3.0\u001B[39;00m\n\u001B[32m   (...)\u001B[39m\u001B[32m   3077\u001B[39m \u001B[33;03m+---+----+\u001B[39;00m\n\u001B[32m   3078\u001B[39m \u001B[33;03m\"\"\"\u001B[39;00m\n\u001B[32m   3079\u001B[39m \u001B[38;5;28;01mif\u001B[39;00m \u001B[38;5;28misinstance\u001B[39m(item, \u001B[38;5;28mstr\u001B[39m):\n\u001B[32m-> \u001B[39m\u001B[32m3080\u001B[39m     jc = \u001B[38;5;28;43mself\u001B[39;49m\u001B[43m.\u001B[49m\u001B[43m_jdf\u001B[49m\u001B[43m.\u001B[49m\u001B[43mapply\u001B[49m\u001B[43m(\u001B[49m\u001B[43mitem\u001B[49m\u001B[43m)\u001B[49m\n\u001B[32m   3081\u001B[39m     \u001B[38;5;28;01mreturn\u001B[39;00m Column(jc)\n\u001B[32m   3082\u001B[39m \u001B[38;5;28;01melif\u001B[39;00m \u001B[38;5;28misinstance\u001B[39m(item, Column):\n",
      "\u001B[36mFile \u001B[39m\u001B[32mD:\\Data_Engineer\\Spark_PySpark\\.venv\\Lib\\site-packages\\py4j\\java_gateway.py:1322\u001B[39m, in \u001B[36mJavaMember.__call__\u001B[39m\u001B[34m(self, *args)\u001B[39m\n\u001B[32m   1316\u001B[39m command = proto.CALL_COMMAND_NAME +\\\n\u001B[32m   1317\u001B[39m     \u001B[38;5;28mself\u001B[39m.command_header +\\\n\u001B[32m   1318\u001B[39m     args_command +\\\n\u001B[32m   1319\u001B[39m     proto.END_COMMAND_PART\n\u001B[32m   1321\u001B[39m answer = \u001B[38;5;28mself\u001B[39m.gateway_client.send_command(command)\n\u001B[32m-> \u001B[39m\u001B[32m1322\u001B[39m return_value = \u001B[43mget_return_value\u001B[49m\u001B[43m(\u001B[49m\n\u001B[32m   1323\u001B[39m \u001B[43m    \u001B[49m\u001B[43manswer\u001B[49m\u001B[43m,\u001B[49m\u001B[43m \u001B[49m\u001B[38;5;28;43mself\u001B[39;49m\u001B[43m.\u001B[49m\u001B[43mgateway_client\u001B[49m\u001B[43m,\u001B[49m\u001B[43m \u001B[49m\u001B[38;5;28;43mself\u001B[39;49m\u001B[43m.\u001B[49m\u001B[43mtarget_id\u001B[49m\u001B[43m,\u001B[49m\u001B[43m \u001B[49m\u001B[38;5;28;43mself\u001B[39;49m\u001B[43m.\u001B[49m\u001B[43mname\u001B[49m\u001B[43m)\u001B[49m\n\u001B[32m   1325\u001B[39m \u001B[38;5;28;01mfor\u001B[39;00m temp_arg \u001B[38;5;129;01min\u001B[39;00m temp_args:\n\u001B[32m   1326\u001B[39m     \u001B[38;5;28;01mif\u001B[39;00m \u001B[38;5;28mhasattr\u001B[39m(temp_arg, \u001B[33m\"\u001B[39m\u001B[33m_detach\u001B[39m\u001B[33m\"\u001B[39m):\n",
      "\u001B[36mFile \u001B[39m\u001B[32mD:\\Data_Engineer\\Spark_PySpark\\.venv\\Lib\\site-packages\\pyspark\\errors\\exceptions\\captured.py:185\u001B[39m, in \u001B[36mcapture_sql_exception.<locals>.deco\u001B[39m\u001B[34m(*a, **kw)\u001B[39m\n\u001B[32m    181\u001B[39m converted = convert_exception(e.java_exception)\n\u001B[32m    182\u001B[39m \u001B[38;5;28;01mif\u001B[39;00m \u001B[38;5;129;01mnot\u001B[39;00m \u001B[38;5;28misinstance\u001B[39m(converted, UnknownException):\n\u001B[32m    183\u001B[39m     \u001B[38;5;66;03m# Hide where the exception came from that shows a non-Pythonic\u001B[39;00m\n\u001B[32m    184\u001B[39m     \u001B[38;5;66;03m# JVM exception message.\u001B[39;00m\n\u001B[32m--> \u001B[39m\u001B[32m185\u001B[39m     \u001B[38;5;28;01mraise\u001B[39;00m converted \u001B[38;5;28;01mfrom\u001B[39;00m\u001B[38;5;250m \u001B[39m\u001B[38;5;28;01mNone\u001B[39;00m\n\u001B[32m    186\u001B[39m \u001B[38;5;28;01melse\u001B[39;00m:\n\u001B[32m    187\u001B[39m     \u001B[38;5;28;01mraise\u001B[39;00m\n",
      "\u001B[31mAnalysisException\u001B[39m: [UNRESOLVED_COLUMN.WITH_SUGGESTION] A column or function parameter with name `Completed Trips` cannot be resolved. Did you mean one of the following? [`Date`, `Time (Local)`, `Eyeballs `, `Zeroes `, `Completed Trips `, `Requests `, `Unique Drivers`]."
     ]
    }
   ],
   "execution_count": 54
  },
  {
   "metadata": {},
   "cell_type": "code",
   "outputs": [],
   "execution_count": null,
   "source": "",
   "id": "a5ea96e4a66896b1"
  }
 ],
 "metadata": {
  "kernelspec": {
   "display_name": "Python 3",
   "language": "python",
   "name": "python3"
  },
  "language_info": {
   "codemirror_mode": {
    "name": "ipython",
    "version": 2
   },
   "file_extension": ".py",
   "mimetype": "text/x-python",
   "name": "python",
   "nbconvert_exporter": "python",
   "pygments_lexer": "ipython2",
   "version": "2.7.6"
  }
 },
 "nbformat": 4,
 "nbformat_minor": 5
}
